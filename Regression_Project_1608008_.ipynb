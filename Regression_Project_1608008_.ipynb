{
  "nbformat": 4,
  "nbformat_minor": 0,
  "metadata": {
    "colab": {
      "name": "Regression Project- 1608008 .ipynb",
      "provenance": [],
      "collapsed_sections": [
        "SzECkz2GmLjw"
      ],
      "include_colab_link": true
    },
    "kernelspec": {
      "name": "python3",
      "display_name": "Python 3"
    },
    "language_info": {
      "name": "python"
    }
  },
  "cells": [
    {
      "cell_type": "markdown",
      "metadata": {
        "id": "view-in-github",
        "colab_type": "text"
      },
      "source": [
        "<a href=\"https://colab.research.google.com/github/Zarin-08/ETE-456/blob/main/Regression_Project_1608008_.ipynb\" target=\"_parent\"><img src=\"https://colab.research.google.com/assets/colab-badge.svg\" alt=\"Open In Colab\"/></a>"
      ]
    },
    {
      "cell_type": "markdown",
      "metadata": {
        "id": "mFMZnYH46hTv"
      },
      "source": [
        "# **ETE-456:** Regression Project on Medical Cost Personal Dataset\n",
        "\n",
        "\n",
        "> Objective: \n",
        " 1. *Apply various regression algorithms on the real world dataset.*\n",
        "\n",
        "##Dataset (Medical Cost Personal Datasets)\n",
        "Columns\n",
        "\n",
        "**age:** age of primary beneficiary\n",
        "\n",
        "**sex:** insurance contractor gender, female, male\n",
        "\n",
        "**bmi:** Body mass index, providing an understanding of body, weights that are relatively high or low relative to height, objective index of body weight (kg / m ^ 2) using the ratio of height to weight, ideally 18.5 to 24.9\n",
        "\n",
        "**children:** Number of children covered by health insurance / Number of dependents\n",
        "\n",
        "**smoker: **Smoking\n",
        "\n",
        "**region:** the beneficiary's residential area in the US, northeast, southeast, southwest, northwest.\n",
        "\n",
        "**charges:** Individual medical costs billed by health insurance"
      ]
    },
    {
      "cell_type": "code",
      "metadata": {
        "id": "xJ-W-u0d9tbK"
      },
      "source": [
        "import warnings\n",
        "warnings.filterwarnings(\"ignore\")"
      ],
      "execution_count": 48,
      "outputs": []
    },
    {
      "cell_type": "markdown",
      "metadata": {
        "id": "zWdPYGPNOh69"
      },
      "source": [
        "### **Import the Libraries**"
      ]
    },
    {
      "cell_type": "code",
      "metadata": {
        "id": "6GKThpaK9wT5"
      },
      "source": [
        "import numpy as np        \n",
        "import pandas as pd     \n",
        "import matplotlib.pyplot as plt \n",
        "from sklearn.preprocessing import LabelEncoder\n",
        "from sklearn.model_selection import train_test_split\n",
        "from sklearn.preprocessing import StandardScaler\n",
        "from sklearn.linear_model import LinearRegression\n",
        "from sklearn.tree import DecisionTreeRegressor\n",
        "from sklearn.ensemble import RandomForestRegressor\n",
        "from sklearn.svm import SVR "
      ],
      "execution_count": 49,
      "outputs": []
    },
    {
      "cell_type": "markdown",
      "metadata": {
        "id": "f2zJmCrsO6Ma"
      },
      "source": [
        "### **Dataset**"
      ]
    },
    {
      "cell_type": "code",
      "metadata": {
        "id": "LU0VYMgy9b12",
        "colab": {
          "base_uri": "https://localhost:8080/"
        },
        "outputId": "6937508b-0e73-4330-eef1-d80e93a6989a"
      },
      "source": [
        "# Download the data\n",
        "!wget -O insurance.csv https://www.dropbox.com/s/mwgqgjbmfw0xa5p/insurance.csv?dl=0"
      ],
      "execution_count": 50,
      "outputs": [
        {
          "output_type": "stream",
          "name": "stdout",
          "text": [
            "--2021-12-20 10:29:39--  https://www.dropbox.com/s/mwgqgjbmfw0xa5p/insurance.csv?dl=0\n",
            "Resolving www.dropbox.com (www.dropbox.com)... 162.125.81.18, 2620:100:6035:18::a27d:5512\n",
            "Connecting to www.dropbox.com (www.dropbox.com)|162.125.81.18|:443... connected.\n",
            "HTTP request sent, awaiting response... 301 Moved Permanently\n",
            "Location: /s/raw/mwgqgjbmfw0xa5p/insurance.csv [following]\n",
            "--2021-12-20 10:29:39--  https://www.dropbox.com/s/raw/mwgqgjbmfw0xa5p/insurance.csv\n",
            "Reusing existing connection to www.dropbox.com:443.\n",
            "HTTP request sent, awaiting response... 302 Found\n",
            "Location: https://uc7e7607911a2297eb0ff48d8cb7.dl.dropboxusercontent.com/cd/0/inline/BcPYdgrPyg_h1OCjeSf39F55qCMdUPkr_IPS8wG3iTw15gaL7pIPkLFxO3uEBsyu_2TbACQPnkrIYvbMuP1r_hyTIUjij6Z0Q2HLC2-Cm_FigoSGPm7xbReuuoeIZpYnoH_Ws54rdUjIX7MUY3CPtlYk/file# [following]\n",
            "--2021-12-20 10:29:40--  https://uc7e7607911a2297eb0ff48d8cb7.dl.dropboxusercontent.com/cd/0/inline/BcPYdgrPyg_h1OCjeSf39F55qCMdUPkr_IPS8wG3iTw15gaL7pIPkLFxO3uEBsyu_2TbACQPnkrIYvbMuP1r_hyTIUjij6Z0Q2HLC2-Cm_FigoSGPm7xbReuuoeIZpYnoH_Ws54rdUjIX7MUY3CPtlYk/file\n",
            "Resolving uc7e7607911a2297eb0ff48d8cb7.dl.dropboxusercontent.com (uc7e7607911a2297eb0ff48d8cb7.dl.dropboxusercontent.com)... 162.125.80.15, 2620:100:6035:15::a27d:550f\n",
            "Connecting to uc7e7607911a2297eb0ff48d8cb7.dl.dropboxusercontent.com (uc7e7607911a2297eb0ff48d8cb7.dl.dropboxusercontent.com)|162.125.80.15|:443... connected.\n",
            "HTTP request sent, awaiting response... 200 OK\n",
            "Length: 55628 (54K) [text/plain]\n",
            "Saving to: ‘insurance.csv’\n",
            "\n",
            "insurance.csv       100%[===================>]  54.32K  --.-KB/s    in 0.1s    \n",
            "\n",
            "2021-12-20 10:29:40 (420 KB/s) - ‘insurance.csv’ saved [55628/55628]\n",
            "\n"
          ]
        }
      ]
    },
    {
      "cell_type": "code",
      "metadata": {
        "id": "u5ADp_5l9gce",
        "colab": {
          "base_uri": "https://localhost:8080/",
          "height": 424
        },
        "outputId": "0c08b5a1-3d55-40ad-f456-6ac00f466b2d"
      },
      "source": [
        "\"\"\"importing the dataset \"\"\"\n",
        "\n",
        "dataset = pd.read_csv('insurance.csv')\n",
        "dataset"
      ],
      "execution_count": 51,
      "outputs": [
        {
          "output_type": "execute_result",
          "data": {
            "text/html": [
              "\n",
              "  <div id=\"df-bd685ff5-3dfb-4c49-9877-853eac649a18\">\n",
              "    <div class=\"colab-df-container\">\n",
              "      <div>\n",
              "<style scoped>\n",
              "    .dataframe tbody tr th:only-of-type {\n",
              "        vertical-align: middle;\n",
              "    }\n",
              "\n",
              "    .dataframe tbody tr th {\n",
              "        vertical-align: top;\n",
              "    }\n",
              "\n",
              "    .dataframe thead th {\n",
              "        text-align: right;\n",
              "    }\n",
              "</style>\n",
              "<table border=\"1\" class=\"dataframe\">\n",
              "  <thead>\n",
              "    <tr style=\"text-align: right;\">\n",
              "      <th></th>\n",
              "      <th>age</th>\n",
              "      <th>sex</th>\n",
              "      <th>bmi</th>\n",
              "      <th>children</th>\n",
              "      <th>smoker</th>\n",
              "      <th>region</th>\n",
              "      <th>charges</th>\n",
              "    </tr>\n",
              "  </thead>\n",
              "  <tbody>\n",
              "    <tr>\n",
              "      <th>0</th>\n",
              "      <td>19</td>\n",
              "      <td>female</td>\n",
              "      <td>27.900</td>\n",
              "      <td>0</td>\n",
              "      <td>yes</td>\n",
              "      <td>southwest</td>\n",
              "      <td>16884.92400</td>\n",
              "    </tr>\n",
              "    <tr>\n",
              "      <th>1</th>\n",
              "      <td>18</td>\n",
              "      <td>male</td>\n",
              "      <td>33.770</td>\n",
              "      <td>1</td>\n",
              "      <td>no</td>\n",
              "      <td>southeast</td>\n",
              "      <td>1725.55230</td>\n",
              "    </tr>\n",
              "    <tr>\n",
              "      <th>2</th>\n",
              "      <td>28</td>\n",
              "      <td>male</td>\n",
              "      <td>33.000</td>\n",
              "      <td>3</td>\n",
              "      <td>no</td>\n",
              "      <td>southeast</td>\n",
              "      <td>4449.46200</td>\n",
              "    </tr>\n",
              "    <tr>\n",
              "      <th>3</th>\n",
              "      <td>33</td>\n",
              "      <td>male</td>\n",
              "      <td>22.705</td>\n",
              "      <td>0</td>\n",
              "      <td>no</td>\n",
              "      <td>northwest</td>\n",
              "      <td>21984.47061</td>\n",
              "    </tr>\n",
              "    <tr>\n",
              "      <th>4</th>\n",
              "      <td>32</td>\n",
              "      <td>male</td>\n",
              "      <td>28.880</td>\n",
              "      <td>0</td>\n",
              "      <td>no</td>\n",
              "      <td>northwest</td>\n",
              "      <td>3866.85520</td>\n",
              "    </tr>\n",
              "    <tr>\n",
              "      <th>...</th>\n",
              "      <td>...</td>\n",
              "      <td>...</td>\n",
              "      <td>...</td>\n",
              "      <td>...</td>\n",
              "      <td>...</td>\n",
              "      <td>...</td>\n",
              "      <td>...</td>\n",
              "    </tr>\n",
              "    <tr>\n",
              "      <th>1333</th>\n",
              "      <td>50</td>\n",
              "      <td>male</td>\n",
              "      <td>30.970</td>\n",
              "      <td>3</td>\n",
              "      <td>no</td>\n",
              "      <td>northwest</td>\n",
              "      <td>10600.54830</td>\n",
              "    </tr>\n",
              "    <tr>\n",
              "      <th>1334</th>\n",
              "      <td>18</td>\n",
              "      <td>female</td>\n",
              "      <td>31.920</td>\n",
              "      <td>0</td>\n",
              "      <td>no</td>\n",
              "      <td>northeast</td>\n",
              "      <td>2205.98080</td>\n",
              "    </tr>\n",
              "    <tr>\n",
              "      <th>1335</th>\n",
              "      <td>18</td>\n",
              "      <td>female</td>\n",
              "      <td>36.850</td>\n",
              "      <td>0</td>\n",
              "      <td>no</td>\n",
              "      <td>southeast</td>\n",
              "      <td>1629.83350</td>\n",
              "    </tr>\n",
              "    <tr>\n",
              "      <th>1336</th>\n",
              "      <td>21</td>\n",
              "      <td>female</td>\n",
              "      <td>25.800</td>\n",
              "      <td>0</td>\n",
              "      <td>no</td>\n",
              "      <td>southwest</td>\n",
              "      <td>2007.94500</td>\n",
              "    </tr>\n",
              "    <tr>\n",
              "      <th>1337</th>\n",
              "      <td>61</td>\n",
              "      <td>female</td>\n",
              "      <td>29.070</td>\n",
              "      <td>0</td>\n",
              "      <td>yes</td>\n",
              "      <td>northwest</td>\n",
              "      <td>29141.36030</td>\n",
              "    </tr>\n",
              "  </tbody>\n",
              "</table>\n",
              "<p>1338 rows × 7 columns</p>\n",
              "</div>\n",
              "      <button class=\"colab-df-convert\" onclick=\"convertToInteractive('df-bd685ff5-3dfb-4c49-9877-853eac649a18')\"\n",
              "              title=\"Convert this dataframe to an interactive table.\"\n",
              "              style=\"display:none;\">\n",
              "        \n",
              "  <svg xmlns=\"http://www.w3.org/2000/svg\" height=\"24px\"viewBox=\"0 0 24 24\"\n",
              "       width=\"24px\">\n",
              "    <path d=\"M0 0h24v24H0V0z\" fill=\"none\"/>\n",
              "    <path d=\"M18.56 5.44l.94 2.06.94-2.06 2.06-.94-2.06-.94-.94-2.06-.94 2.06-2.06.94zm-11 1L8.5 8.5l.94-2.06 2.06-.94-2.06-.94L8.5 2.5l-.94 2.06-2.06.94zm10 10l.94 2.06.94-2.06 2.06-.94-2.06-.94-.94-2.06-.94 2.06-2.06.94z\"/><path d=\"M17.41 7.96l-1.37-1.37c-.4-.4-.92-.59-1.43-.59-.52 0-1.04.2-1.43.59L10.3 9.45l-7.72 7.72c-.78.78-.78 2.05 0 2.83L4 21.41c.39.39.9.59 1.41.59.51 0 1.02-.2 1.41-.59l7.78-7.78 2.81-2.81c.8-.78.8-2.07 0-2.86zM5.41 20L4 18.59l7.72-7.72 1.47 1.35L5.41 20z\"/>\n",
              "  </svg>\n",
              "      </button>\n",
              "      \n",
              "  <style>\n",
              "    .colab-df-container {\n",
              "      display:flex;\n",
              "      flex-wrap:wrap;\n",
              "      gap: 12px;\n",
              "    }\n",
              "\n",
              "    .colab-df-convert {\n",
              "      background-color: #E8F0FE;\n",
              "      border: none;\n",
              "      border-radius: 50%;\n",
              "      cursor: pointer;\n",
              "      display: none;\n",
              "      fill: #1967D2;\n",
              "      height: 32px;\n",
              "      padding: 0 0 0 0;\n",
              "      width: 32px;\n",
              "    }\n",
              "\n",
              "    .colab-df-convert:hover {\n",
              "      background-color: #E2EBFA;\n",
              "      box-shadow: 0px 1px 2px rgba(60, 64, 67, 0.3), 0px 1px 3px 1px rgba(60, 64, 67, 0.15);\n",
              "      fill: #174EA6;\n",
              "    }\n",
              "\n",
              "    [theme=dark] .colab-df-convert {\n",
              "      background-color: #3B4455;\n",
              "      fill: #D2E3FC;\n",
              "    }\n",
              "\n",
              "    [theme=dark] .colab-df-convert:hover {\n",
              "      background-color: #434B5C;\n",
              "      box-shadow: 0px 1px 3px 1px rgba(0, 0, 0, 0.15);\n",
              "      filter: drop-shadow(0px 1px 2px rgba(0, 0, 0, 0.3));\n",
              "      fill: #FFFFFF;\n",
              "    }\n",
              "  </style>\n",
              "\n",
              "      <script>\n",
              "        const buttonEl =\n",
              "          document.querySelector('#df-bd685ff5-3dfb-4c49-9877-853eac649a18 button.colab-df-convert');\n",
              "        buttonEl.style.display =\n",
              "          google.colab.kernel.accessAllowed ? 'block' : 'none';\n",
              "\n",
              "        async function convertToInteractive(key) {\n",
              "          const element = document.querySelector('#df-bd685ff5-3dfb-4c49-9877-853eac649a18');\n",
              "          const dataTable =\n",
              "            await google.colab.kernel.invokeFunction('convertToInteractive',\n",
              "                                                     [key], {});\n",
              "          if (!dataTable) return;\n",
              "\n",
              "          const docLinkHtml = 'Like what you see? Visit the ' +\n",
              "            '<a target=\"_blank\" href=https://colab.research.google.com/notebooks/data_table.ipynb>data table notebook</a>'\n",
              "            + ' to learn more about interactive tables.';\n",
              "          element.innerHTML = '';\n",
              "          dataTable['output_type'] = 'display_data';\n",
              "          await google.colab.output.renderOutput(dataTable, element);\n",
              "          const docLink = document.createElement('div');\n",
              "          docLink.innerHTML = docLinkHtml;\n",
              "          element.appendChild(docLink);\n",
              "        }\n",
              "      </script>\n",
              "    </div>\n",
              "  </div>\n",
              "  "
            ],
            "text/plain": [
              "      age     sex     bmi  children smoker     region      charges\n",
              "0      19  female  27.900         0    yes  southwest  16884.92400\n",
              "1      18    male  33.770         1     no  southeast   1725.55230\n",
              "2      28    male  33.000         3     no  southeast   4449.46200\n",
              "3      33    male  22.705         0     no  northwest  21984.47061\n",
              "4      32    male  28.880         0     no  northwest   3866.85520\n",
              "...   ...     ...     ...       ...    ...        ...          ...\n",
              "1333   50    male  30.970         3     no  northwest  10600.54830\n",
              "1334   18  female  31.920         0     no  northeast   2205.98080\n",
              "1335   18  female  36.850         0     no  southeast   1629.83350\n",
              "1336   21  female  25.800         0     no  southwest   2007.94500\n",
              "1337   61  female  29.070         0    yes  northwest  29141.36030\n",
              "\n",
              "[1338 rows x 7 columns]"
            ]
          },
          "metadata": {},
          "execution_count": 51
        }
      ]
    },
    {
      "cell_type": "code",
      "metadata": {
        "id": "F-bJSFY4Bbna"
      },
      "source": [
        "# Feature Columns\n",
        "features = dataset[['age', 'bmi', 'smoker', 'children']]\n",
        "# Target Columns\n",
        "target = dataset[['charges']]"
      ],
      "execution_count": 52,
      "outputs": []
    },
    {
      "cell_type": "code",
      "metadata": {
        "id": "IL0eHIcZCOto",
        "colab": {
          "base_uri": "https://localhost:8080/",
          "height": 424
        },
        "outputId": "0a277a67-3404-412b-9392-b1b8a75a8a26"
      },
      "source": [
        "features"
      ],
      "execution_count": 53,
      "outputs": [
        {
          "output_type": "execute_result",
          "data": {
            "text/html": [
              "\n",
              "  <div id=\"df-34f5e1f9-31cf-443d-a45f-accacb4aa114\">\n",
              "    <div class=\"colab-df-container\">\n",
              "      <div>\n",
              "<style scoped>\n",
              "    .dataframe tbody tr th:only-of-type {\n",
              "        vertical-align: middle;\n",
              "    }\n",
              "\n",
              "    .dataframe tbody tr th {\n",
              "        vertical-align: top;\n",
              "    }\n",
              "\n",
              "    .dataframe thead th {\n",
              "        text-align: right;\n",
              "    }\n",
              "</style>\n",
              "<table border=\"1\" class=\"dataframe\">\n",
              "  <thead>\n",
              "    <tr style=\"text-align: right;\">\n",
              "      <th></th>\n",
              "      <th>age</th>\n",
              "      <th>bmi</th>\n",
              "      <th>smoker</th>\n",
              "      <th>children</th>\n",
              "    </tr>\n",
              "  </thead>\n",
              "  <tbody>\n",
              "    <tr>\n",
              "      <th>0</th>\n",
              "      <td>19</td>\n",
              "      <td>27.900</td>\n",
              "      <td>yes</td>\n",
              "      <td>0</td>\n",
              "    </tr>\n",
              "    <tr>\n",
              "      <th>1</th>\n",
              "      <td>18</td>\n",
              "      <td>33.770</td>\n",
              "      <td>no</td>\n",
              "      <td>1</td>\n",
              "    </tr>\n",
              "    <tr>\n",
              "      <th>2</th>\n",
              "      <td>28</td>\n",
              "      <td>33.000</td>\n",
              "      <td>no</td>\n",
              "      <td>3</td>\n",
              "    </tr>\n",
              "    <tr>\n",
              "      <th>3</th>\n",
              "      <td>33</td>\n",
              "      <td>22.705</td>\n",
              "      <td>no</td>\n",
              "      <td>0</td>\n",
              "    </tr>\n",
              "    <tr>\n",
              "      <th>4</th>\n",
              "      <td>32</td>\n",
              "      <td>28.880</td>\n",
              "      <td>no</td>\n",
              "      <td>0</td>\n",
              "    </tr>\n",
              "    <tr>\n",
              "      <th>...</th>\n",
              "      <td>...</td>\n",
              "      <td>...</td>\n",
              "      <td>...</td>\n",
              "      <td>...</td>\n",
              "    </tr>\n",
              "    <tr>\n",
              "      <th>1333</th>\n",
              "      <td>50</td>\n",
              "      <td>30.970</td>\n",
              "      <td>no</td>\n",
              "      <td>3</td>\n",
              "    </tr>\n",
              "    <tr>\n",
              "      <th>1334</th>\n",
              "      <td>18</td>\n",
              "      <td>31.920</td>\n",
              "      <td>no</td>\n",
              "      <td>0</td>\n",
              "    </tr>\n",
              "    <tr>\n",
              "      <th>1335</th>\n",
              "      <td>18</td>\n",
              "      <td>36.850</td>\n",
              "      <td>no</td>\n",
              "      <td>0</td>\n",
              "    </tr>\n",
              "    <tr>\n",
              "      <th>1336</th>\n",
              "      <td>21</td>\n",
              "      <td>25.800</td>\n",
              "      <td>no</td>\n",
              "      <td>0</td>\n",
              "    </tr>\n",
              "    <tr>\n",
              "      <th>1337</th>\n",
              "      <td>61</td>\n",
              "      <td>29.070</td>\n",
              "      <td>yes</td>\n",
              "      <td>0</td>\n",
              "    </tr>\n",
              "  </tbody>\n",
              "</table>\n",
              "<p>1338 rows × 4 columns</p>\n",
              "</div>\n",
              "      <button class=\"colab-df-convert\" onclick=\"convertToInteractive('df-34f5e1f9-31cf-443d-a45f-accacb4aa114')\"\n",
              "              title=\"Convert this dataframe to an interactive table.\"\n",
              "              style=\"display:none;\">\n",
              "        \n",
              "  <svg xmlns=\"http://www.w3.org/2000/svg\" height=\"24px\"viewBox=\"0 0 24 24\"\n",
              "       width=\"24px\">\n",
              "    <path d=\"M0 0h24v24H0V0z\" fill=\"none\"/>\n",
              "    <path d=\"M18.56 5.44l.94 2.06.94-2.06 2.06-.94-2.06-.94-.94-2.06-.94 2.06-2.06.94zm-11 1L8.5 8.5l.94-2.06 2.06-.94-2.06-.94L8.5 2.5l-.94 2.06-2.06.94zm10 10l.94 2.06.94-2.06 2.06-.94-2.06-.94-.94-2.06-.94 2.06-2.06.94z\"/><path d=\"M17.41 7.96l-1.37-1.37c-.4-.4-.92-.59-1.43-.59-.52 0-1.04.2-1.43.59L10.3 9.45l-7.72 7.72c-.78.78-.78 2.05 0 2.83L4 21.41c.39.39.9.59 1.41.59.51 0 1.02-.2 1.41-.59l7.78-7.78 2.81-2.81c.8-.78.8-2.07 0-2.86zM5.41 20L4 18.59l7.72-7.72 1.47 1.35L5.41 20z\"/>\n",
              "  </svg>\n",
              "      </button>\n",
              "      \n",
              "  <style>\n",
              "    .colab-df-container {\n",
              "      display:flex;\n",
              "      flex-wrap:wrap;\n",
              "      gap: 12px;\n",
              "    }\n",
              "\n",
              "    .colab-df-convert {\n",
              "      background-color: #E8F0FE;\n",
              "      border: none;\n",
              "      border-radius: 50%;\n",
              "      cursor: pointer;\n",
              "      display: none;\n",
              "      fill: #1967D2;\n",
              "      height: 32px;\n",
              "      padding: 0 0 0 0;\n",
              "      width: 32px;\n",
              "    }\n",
              "\n",
              "    .colab-df-convert:hover {\n",
              "      background-color: #E2EBFA;\n",
              "      box-shadow: 0px 1px 2px rgba(60, 64, 67, 0.3), 0px 1px 3px 1px rgba(60, 64, 67, 0.15);\n",
              "      fill: #174EA6;\n",
              "    }\n",
              "\n",
              "    [theme=dark] .colab-df-convert {\n",
              "      background-color: #3B4455;\n",
              "      fill: #D2E3FC;\n",
              "    }\n",
              "\n",
              "    [theme=dark] .colab-df-convert:hover {\n",
              "      background-color: #434B5C;\n",
              "      box-shadow: 0px 1px 3px 1px rgba(0, 0, 0, 0.15);\n",
              "      filter: drop-shadow(0px 1px 2px rgba(0, 0, 0, 0.3));\n",
              "      fill: #FFFFFF;\n",
              "    }\n",
              "  </style>\n",
              "\n",
              "      <script>\n",
              "        const buttonEl =\n",
              "          document.querySelector('#df-34f5e1f9-31cf-443d-a45f-accacb4aa114 button.colab-df-convert');\n",
              "        buttonEl.style.display =\n",
              "          google.colab.kernel.accessAllowed ? 'block' : 'none';\n",
              "\n",
              "        async function convertToInteractive(key) {\n",
              "          const element = document.querySelector('#df-34f5e1f9-31cf-443d-a45f-accacb4aa114');\n",
              "          const dataTable =\n",
              "            await google.colab.kernel.invokeFunction('convertToInteractive',\n",
              "                                                     [key], {});\n",
              "          if (!dataTable) return;\n",
              "\n",
              "          const docLinkHtml = 'Like what you see? Visit the ' +\n",
              "            '<a target=\"_blank\" href=https://colab.research.google.com/notebooks/data_table.ipynb>data table notebook</a>'\n",
              "            + ' to learn more about interactive tables.';\n",
              "          element.innerHTML = '';\n",
              "          dataTable['output_type'] = 'display_data';\n",
              "          await google.colab.output.renderOutput(dataTable, element);\n",
              "          const docLink = document.createElement('div');\n",
              "          docLink.innerHTML = docLinkHtml;\n",
              "          element.appendChild(docLink);\n",
              "        }\n",
              "      </script>\n",
              "    </div>\n",
              "  </div>\n",
              "  "
            ],
            "text/plain": [
              "      age     bmi smoker  children\n",
              "0      19  27.900    yes         0\n",
              "1      18  33.770     no         1\n",
              "2      28  33.000     no         3\n",
              "3      33  22.705     no         0\n",
              "4      32  28.880     no         0\n",
              "...   ...     ...    ...       ...\n",
              "1333   50  30.970     no         3\n",
              "1334   18  31.920     no         0\n",
              "1335   18  36.850     no         0\n",
              "1336   21  25.800     no         0\n",
              "1337   61  29.070    yes         0\n",
              "\n",
              "[1338 rows x 4 columns]"
            ]
          },
          "metadata": {},
          "execution_count": 53
        }
      ]
    },
    {
      "cell_type": "markdown",
      "metadata": {
        "id": "4E8kSPWGPXQV"
      },
      "source": [
        "### **Label Encoding**"
      ]
    },
    {
      "cell_type": "code",
      "metadata": {
        "id": "5azKg6ykA2kz"
      },
      "source": [
        "from sklearn.preprocessing import LabelEncoder"
      ],
      "execution_count": 54,
      "outputs": []
    },
    {
      "cell_type": "code",
      "metadata": {
        "id": "TKGQpcXgA4Jf"
      },
      "source": [
        "labelencoder_f = LabelEncoder()\n",
        "#the country column is represented by numeric value\n",
        "features['smoker'] = labelencoder_f.fit_transform(features['smoker'])"
      ],
      "execution_count": 55,
      "outputs": []
    },
    {
      "cell_type": "code",
      "metadata": {
        "id": "yX36g_mUA4GC",
        "colab": {
          "base_uri": "https://localhost:8080/",
          "height": 424
        },
        "outputId": "2832a4b3-ba04-4456-fb98-fdda8636742d"
      },
      "source": [
        "features"
      ],
      "execution_count": 56,
      "outputs": [
        {
          "output_type": "execute_result",
          "data": {
            "text/html": [
              "\n",
              "  <div id=\"df-bf418a8b-afc8-4d76-aa46-6495cad7a0f9\">\n",
              "    <div class=\"colab-df-container\">\n",
              "      <div>\n",
              "<style scoped>\n",
              "    .dataframe tbody tr th:only-of-type {\n",
              "        vertical-align: middle;\n",
              "    }\n",
              "\n",
              "    .dataframe tbody tr th {\n",
              "        vertical-align: top;\n",
              "    }\n",
              "\n",
              "    .dataframe thead th {\n",
              "        text-align: right;\n",
              "    }\n",
              "</style>\n",
              "<table border=\"1\" class=\"dataframe\">\n",
              "  <thead>\n",
              "    <tr style=\"text-align: right;\">\n",
              "      <th></th>\n",
              "      <th>age</th>\n",
              "      <th>bmi</th>\n",
              "      <th>smoker</th>\n",
              "      <th>children</th>\n",
              "    </tr>\n",
              "  </thead>\n",
              "  <tbody>\n",
              "    <tr>\n",
              "      <th>0</th>\n",
              "      <td>19</td>\n",
              "      <td>27.900</td>\n",
              "      <td>1</td>\n",
              "      <td>0</td>\n",
              "    </tr>\n",
              "    <tr>\n",
              "      <th>1</th>\n",
              "      <td>18</td>\n",
              "      <td>33.770</td>\n",
              "      <td>0</td>\n",
              "      <td>1</td>\n",
              "    </tr>\n",
              "    <tr>\n",
              "      <th>2</th>\n",
              "      <td>28</td>\n",
              "      <td>33.000</td>\n",
              "      <td>0</td>\n",
              "      <td>3</td>\n",
              "    </tr>\n",
              "    <tr>\n",
              "      <th>3</th>\n",
              "      <td>33</td>\n",
              "      <td>22.705</td>\n",
              "      <td>0</td>\n",
              "      <td>0</td>\n",
              "    </tr>\n",
              "    <tr>\n",
              "      <th>4</th>\n",
              "      <td>32</td>\n",
              "      <td>28.880</td>\n",
              "      <td>0</td>\n",
              "      <td>0</td>\n",
              "    </tr>\n",
              "    <tr>\n",
              "      <th>...</th>\n",
              "      <td>...</td>\n",
              "      <td>...</td>\n",
              "      <td>...</td>\n",
              "      <td>...</td>\n",
              "    </tr>\n",
              "    <tr>\n",
              "      <th>1333</th>\n",
              "      <td>50</td>\n",
              "      <td>30.970</td>\n",
              "      <td>0</td>\n",
              "      <td>3</td>\n",
              "    </tr>\n",
              "    <tr>\n",
              "      <th>1334</th>\n",
              "      <td>18</td>\n",
              "      <td>31.920</td>\n",
              "      <td>0</td>\n",
              "      <td>0</td>\n",
              "    </tr>\n",
              "    <tr>\n",
              "      <th>1335</th>\n",
              "      <td>18</td>\n",
              "      <td>36.850</td>\n",
              "      <td>0</td>\n",
              "      <td>0</td>\n",
              "    </tr>\n",
              "    <tr>\n",
              "      <th>1336</th>\n",
              "      <td>21</td>\n",
              "      <td>25.800</td>\n",
              "      <td>0</td>\n",
              "      <td>0</td>\n",
              "    </tr>\n",
              "    <tr>\n",
              "      <th>1337</th>\n",
              "      <td>61</td>\n",
              "      <td>29.070</td>\n",
              "      <td>1</td>\n",
              "      <td>0</td>\n",
              "    </tr>\n",
              "  </tbody>\n",
              "</table>\n",
              "<p>1338 rows × 4 columns</p>\n",
              "</div>\n",
              "      <button class=\"colab-df-convert\" onclick=\"convertToInteractive('df-bf418a8b-afc8-4d76-aa46-6495cad7a0f9')\"\n",
              "              title=\"Convert this dataframe to an interactive table.\"\n",
              "              style=\"display:none;\">\n",
              "        \n",
              "  <svg xmlns=\"http://www.w3.org/2000/svg\" height=\"24px\"viewBox=\"0 0 24 24\"\n",
              "       width=\"24px\">\n",
              "    <path d=\"M0 0h24v24H0V0z\" fill=\"none\"/>\n",
              "    <path d=\"M18.56 5.44l.94 2.06.94-2.06 2.06-.94-2.06-.94-.94-2.06-.94 2.06-2.06.94zm-11 1L8.5 8.5l.94-2.06 2.06-.94-2.06-.94L8.5 2.5l-.94 2.06-2.06.94zm10 10l.94 2.06.94-2.06 2.06-.94-2.06-.94-.94-2.06-.94 2.06-2.06.94z\"/><path d=\"M17.41 7.96l-1.37-1.37c-.4-.4-.92-.59-1.43-.59-.52 0-1.04.2-1.43.59L10.3 9.45l-7.72 7.72c-.78.78-.78 2.05 0 2.83L4 21.41c.39.39.9.59 1.41.59.51 0 1.02-.2 1.41-.59l7.78-7.78 2.81-2.81c.8-.78.8-2.07 0-2.86zM5.41 20L4 18.59l7.72-7.72 1.47 1.35L5.41 20z\"/>\n",
              "  </svg>\n",
              "      </button>\n",
              "      \n",
              "  <style>\n",
              "    .colab-df-container {\n",
              "      display:flex;\n",
              "      flex-wrap:wrap;\n",
              "      gap: 12px;\n",
              "    }\n",
              "\n",
              "    .colab-df-convert {\n",
              "      background-color: #E8F0FE;\n",
              "      border: none;\n",
              "      border-radius: 50%;\n",
              "      cursor: pointer;\n",
              "      display: none;\n",
              "      fill: #1967D2;\n",
              "      height: 32px;\n",
              "      padding: 0 0 0 0;\n",
              "      width: 32px;\n",
              "    }\n",
              "\n",
              "    .colab-df-convert:hover {\n",
              "      background-color: #E2EBFA;\n",
              "      box-shadow: 0px 1px 2px rgba(60, 64, 67, 0.3), 0px 1px 3px 1px rgba(60, 64, 67, 0.15);\n",
              "      fill: #174EA6;\n",
              "    }\n",
              "\n",
              "    [theme=dark] .colab-df-convert {\n",
              "      background-color: #3B4455;\n",
              "      fill: #D2E3FC;\n",
              "    }\n",
              "\n",
              "    [theme=dark] .colab-df-convert:hover {\n",
              "      background-color: #434B5C;\n",
              "      box-shadow: 0px 1px 3px 1px rgba(0, 0, 0, 0.15);\n",
              "      filter: drop-shadow(0px 1px 2px rgba(0, 0, 0, 0.3));\n",
              "      fill: #FFFFFF;\n",
              "    }\n",
              "  </style>\n",
              "\n",
              "      <script>\n",
              "        const buttonEl =\n",
              "          document.querySelector('#df-bf418a8b-afc8-4d76-aa46-6495cad7a0f9 button.colab-df-convert');\n",
              "        buttonEl.style.display =\n",
              "          google.colab.kernel.accessAllowed ? 'block' : 'none';\n",
              "\n",
              "        async function convertToInteractive(key) {\n",
              "          const element = document.querySelector('#df-bf418a8b-afc8-4d76-aa46-6495cad7a0f9');\n",
              "          const dataTable =\n",
              "            await google.colab.kernel.invokeFunction('convertToInteractive',\n",
              "                                                     [key], {});\n",
              "          if (!dataTable) return;\n",
              "\n",
              "          const docLinkHtml = 'Like what you see? Visit the ' +\n",
              "            '<a target=\"_blank\" href=https://colab.research.google.com/notebooks/data_table.ipynb>data table notebook</a>'\n",
              "            + ' to learn more about interactive tables.';\n",
              "          element.innerHTML = '';\n",
              "          dataTable['output_type'] = 'display_data';\n",
              "          await google.colab.output.renderOutput(dataTable, element);\n",
              "          const docLink = document.createElement('div');\n",
              "          docLink.innerHTML = docLinkHtml;\n",
              "          element.appendChild(docLink);\n",
              "        }\n",
              "      </script>\n",
              "    </div>\n",
              "  </div>\n",
              "  "
            ],
            "text/plain": [
              "      age     bmi  smoker  children\n",
              "0      19  27.900       1         0\n",
              "1      18  33.770       0         1\n",
              "2      28  33.000       0         3\n",
              "3      33  22.705       0         0\n",
              "4      32  28.880       0         0\n",
              "...   ...     ...     ...       ...\n",
              "1333   50  30.970       0         3\n",
              "1334   18  31.920       0         0\n",
              "1335   18  36.850       0         0\n",
              "1336   21  25.800       0         0\n",
              "1337   61  29.070       1         0\n",
              "\n",
              "[1338 rows x 4 columns]"
            ]
          },
          "metadata": {},
          "execution_count": 56
        }
      ]
    },
    {
      "cell_type": "markdown",
      "source": [
        "### Taking care of missing values"
      ],
      "metadata": {
        "id": "M-674urA95hf"
      }
    },
    {
      "cell_type": "code",
      "source": [
        "from sklearn.impute import SimpleImputer"
      ],
      "metadata": {
        "id": "uS_KK-yz9-Bz"
      },
      "execution_count": 57,
      "outputs": []
    },
    {
      "cell_type": "code",
      "source": [
        "imputer = SimpleImputer(missing_values=np.nan,strategy = \"mean\") # imputer is an object of Imputer class \n",
        "imputer = imputer.fit(features[['age', 'bmi', 'children','smoker']])"
      ],
      "metadata": {
        "id": "aGa6gUZh-BPD"
      },
      "execution_count": 58,
      "outputs": []
    },
    {
      "cell_type": "code",
      "source": [
        "features[['age', 'bmi', 'children','smoker']]= imputer.transform(features[['age', 'bmi', 'children','smoker']])"
      ],
      "metadata": {
        "id": "jKf1qVbc-EBD"
      },
      "execution_count": 59,
      "outputs": []
    },
    {
      "cell_type": "code",
      "source": [
        "features"
      ],
      "metadata": {
        "colab": {
          "base_uri": "https://localhost:8080/",
          "height": 424
        },
        "id": "PgbHdHal-I55",
        "outputId": "e6cd7ba5-7334-4420-99b7-cc1b0cd6449a"
      },
      "execution_count": 60,
      "outputs": [
        {
          "output_type": "execute_result",
          "data": {
            "text/html": [
              "\n",
              "  <div id=\"df-469557a4-70e3-4076-8c02-284bc321d89b\">\n",
              "    <div class=\"colab-df-container\">\n",
              "      <div>\n",
              "<style scoped>\n",
              "    .dataframe tbody tr th:only-of-type {\n",
              "        vertical-align: middle;\n",
              "    }\n",
              "\n",
              "    .dataframe tbody tr th {\n",
              "        vertical-align: top;\n",
              "    }\n",
              "\n",
              "    .dataframe thead th {\n",
              "        text-align: right;\n",
              "    }\n",
              "</style>\n",
              "<table border=\"1\" class=\"dataframe\">\n",
              "  <thead>\n",
              "    <tr style=\"text-align: right;\">\n",
              "      <th></th>\n",
              "      <th>age</th>\n",
              "      <th>bmi</th>\n",
              "      <th>smoker</th>\n",
              "      <th>children</th>\n",
              "    </tr>\n",
              "  </thead>\n",
              "  <tbody>\n",
              "    <tr>\n",
              "      <th>0</th>\n",
              "      <td>19.0</td>\n",
              "      <td>27.900</td>\n",
              "      <td>1.0</td>\n",
              "      <td>0.0</td>\n",
              "    </tr>\n",
              "    <tr>\n",
              "      <th>1</th>\n",
              "      <td>18.0</td>\n",
              "      <td>33.770</td>\n",
              "      <td>0.0</td>\n",
              "      <td>1.0</td>\n",
              "    </tr>\n",
              "    <tr>\n",
              "      <th>2</th>\n",
              "      <td>28.0</td>\n",
              "      <td>33.000</td>\n",
              "      <td>0.0</td>\n",
              "      <td>3.0</td>\n",
              "    </tr>\n",
              "    <tr>\n",
              "      <th>3</th>\n",
              "      <td>33.0</td>\n",
              "      <td>22.705</td>\n",
              "      <td>0.0</td>\n",
              "      <td>0.0</td>\n",
              "    </tr>\n",
              "    <tr>\n",
              "      <th>4</th>\n",
              "      <td>32.0</td>\n",
              "      <td>28.880</td>\n",
              "      <td>0.0</td>\n",
              "      <td>0.0</td>\n",
              "    </tr>\n",
              "    <tr>\n",
              "      <th>...</th>\n",
              "      <td>...</td>\n",
              "      <td>...</td>\n",
              "      <td>...</td>\n",
              "      <td>...</td>\n",
              "    </tr>\n",
              "    <tr>\n",
              "      <th>1333</th>\n",
              "      <td>50.0</td>\n",
              "      <td>30.970</td>\n",
              "      <td>0.0</td>\n",
              "      <td>3.0</td>\n",
              "    </tr>\n",
              "    <tr>\n",
              "      <th>1334</th>\n",
              "      <td>18.0</td>\n",
              "      <td>31.920</td>\n",
              "      <td>0.0</td>\n",
              "      <td>0.0</td>\n",
              "    </tr>\n",
              "    <tr>\n",
              "      <th>1335</th>\n",
              "      <td>18.0</td>\n",
              "      <td>36.850</td>\n",
              "      <td>0.0</td>\n",
              "      <td>0.0</td>\n",
              "    </tr>\n",
              "    <tr>\n",
              "      <th>1336</th>\n",
              "      <td>21.0</td>\n",
              "      <td>25.800</td>\n",
              "      <td>0.0</td>\n",
              "      <td>0.0</td>\n",
              "    </tr>\n",
              "    <tr>\n",
              "      <th>1337</th>\n",
              "      <td>61.0</td>\n",
              "      <td>29.070</td>\n",
              "      <td>1.0</td>\n",
              "      <td>0.0</td>\n",
              "    </tr>\n",
              "  </tbody>\n",
              "</table>\n",
              "<p>1338 rows × 4 columns</p>\n",
              "</div>\n",
              "      <button class=\"colab-df-convert\" onclick=\"convertToInteractive('df-469557a4-70e3-4076-8c02-284bc321d89b')\"\n",
              "              title=\"Convert this dataframe to an interactive table.\"\n",
              "              style=\"display:none;\">\n",
              "        \n",
              "  <svg xmlns=\"http://www.w3.org/2000/svg\" height=\"24px\"viewBox=\"0 0 24 24\"\n",
              "       width=\"24px\">\n",
              "    <path d=\"M0 0h24v24H0V0z\" fill=\"none\"/>\n",
              "    <path d=\"M18.56 5.44l.94 2.06.94-2.06 2.06-.94-2.06-.94-.94-2.06-.94 2.06-2.06.94zm-11 1L8.5 8.5l.94-2.06 2.06-.94-2.06-.94L8.5 2.5l-.94 2.06-2.06.94zm10 10l.94 2.06.94-2.06 2.06-.94-2.06-.94-.94-2.06-.94 2.06-2.06.94z\"/><path d=\"M17.41 7.96l-1.37-1.37c-.4-.4-.92-.59-1.43-.59-.52 0-1.04.2-1.43.59L10.3 9.45l-7.72 7.72c-.78.78-.78 2.05 0 2.83L4 21.41c.39.39.9.59 1.41.59.51 0 1.02-.2 1.41-.59l7.78-7.78 2.81-2.81c.8-.78.8-2.07 0-2.86zM5.41 20L4 18.59l7.72-7.72 1.47 1.35L5.41 20z\"/>\n",
              "  </svg>\n",
              "      </button>\n",
              "      \n",
              "  <style>\n",
              "    .colab-df-container {\n",
              "      display:flex;\n",
              "      flex-wrap:wrap;\n",
              "      gap: 12px;\n",
              "    }\n",
              "\n",
              "    .colab-df-convert {\n",
              "      background-color: #E8F0FE;\n",
              "      border: none;\n",
              "      border-radius: 50%;\n",
              "      cursor: pointer;\n",
              "      display: none;\n",
              "      fill: #1967D2;\n",
              "      height: 32px;\n",
              "      padding: 0 0 0 0;\n",
              "      width: 32px;\n",
              "    }\n",
              "\n",
              "    .colab-df-convert:hover {\n",
              "      background-color: #E2EBFA;\n",
              "      box-shadow: 0px 1px 2px rgba(60, 64, 67, 0.3), 0px 1px 3px 1px rgba(60, 64, 67, 0.15);\n",
              "      fill: #174EA6;\n",
              "    }\n",
              "\n",
              "    [theme=dark] .colab-df-convert {\n",
              "      background-color: #3B4455;\n",
              "      fill: #D2E3FC;\n",
              "    }\n",
              "\n",
              "    [theme=dark] .colab-df-convert:hover {\n",
              "      background-color: #434B5C;\n",
              "      box-shadow: 0px 1px 3px 1px rgba(0, 0, 0, 0.15);\n",
              "      filter: drop-shadow(0px 1px 2px rgba(0, 0, 0, 0.3));\n",
              "      fill: #FFFFFF;\n",
              "    }\n",
              "  </style>\n",
              "\n",
              "      <script>\n",
              "        const buttonEl =\n",
              "          document.querySelector('#df-469557a4-70e3-4076-8c02-284bc321d89b button.colab-df-convert');\n",
              "        buttonEl.style.display =\n",
              "          google.colab.kernel.accessAllowed ? 'block' : 'none';\n",
              "\n",
              "        async function convertToInteractive(key) {\n",
              "          const element = document.querySelector('#df-469557a4-70e3-4076-8c02-284bc321d89b');\n",
              "          const dataTable =\n",
              "            await google.colab.kernel.invokeFunction('convertToInteractive',\n",
              "                                                     [key], {});\n",
              "          if (!dataTable) return;\n",
              "\n",
              "          const docLinkHtml = 'Like what you see? Visit the ' +\n",
              "            '<a target=\"_blank\" href=https://colab.research.google.com/notebooks/data_table.ipynb>data table notebook</a>'\n",
              "            + ' to learn more about interactive tables.';\n",
              "          element.innerHTML = '';\n",
              "          dataTable['output_type'] = 'display_data';\n",
              "          await google.colab.output.renderOutput(dataTable, element);\n",
              "          const docLink = document.createElement('div');\n",
              "          docLink.innerHTML = docLinkHtml;\n",
              "          element.appendChild(docLink);\n",
              "        }\n",
              "      </script>\n",
              "    </div>\n",
              "  </div>\n",
              "  "
            ],
            "text/plain": [
              "       age     bmi  smoker  children\n",
              "0     19.0  27.900     1.0       0.0\n",
              "1     18.0  33.770     0.0       1.0\n",
              "2     28.0  33.000     0.0       3.0\n",
              "3     33.0  22.705     0.0       0.0\n",
              "4     32.0  28.880     0.0       0.0\n",
              "...    ...     ...     ...       ...\n",
              "1333  50.0  30.970     0.0       3.0\n",
              "1334  18.0  31.920     0.0       0.0\n",
              "1335  18.0  36.850     0.0       0.0\n",
              "1336  21.0  25.800     0.0       0.0\n",
              "1337  61.0  29.070     1.0       0.0\n",
              "\n",
              "[1338 rows x 4 columns]"
            ]
          },
          "metadata": {},
          "execution_count": 60
        }
      ]
    },
    {
      "cell_type": "code",
      "source": [
        "imputer = SimpleImputer(missing_values=np.nan,strategy = \"mean\") # imputer is an object of Imputer class \n",
        "imputer = imputer.fit(target[['charges']])"
      ],
      "metadata": {
        "id": "OdDKb6XZD-Ez"
      },
      "execution_count": 61,
      "outputs": []
    },
    {
      "cell_type": "code",
      "source": [
        "target[['charges']]= imputer.transform(target[['charges']])"
      ],
      "metadata": {
        "id": "0YvvA2IzEIgq"
      },
      "execution_count": 62,
      "outputs": []
    },
    {
      "cell_type": "code",
      "source": [
        "target"
      ],
      "metadata": {
        "colab": {
          "base_uri": "https://localhost:8080/",
          "height": 424
        },
        "id": "oGhAH45LENuS",
        "outputId": "9b674a3c-fed6-4a4d-edf0-c344391f906b"
      },
      "execution_count": 63,
      "outputs": [
        {
          "output_type": "execute_result",
          "data": {
            "text/html": [
              "\n",
              "  <div id=\"df-5956b561-5bb2-413d-a372-3a563b237e63\">\n",
              "    <div class=\"colab-df-container\">\n",
              "      <div>\n",
              "<style scoped>\n",
              "    .dataframe tbody tr th:only-of-type {\n",
              "        vertical-align: middle;\n",
              "    }\n",
              "\n",
              "    .dataframe tbody tr th {\n",
              "        vertical-align: top;\n",
              "    }\n",
              "\n",
              "    .dataframe thead th {\n",
              "        text-align: right;\n",
              "    }\n",
              "</style>\n",
              "<table border=\"1\" class=\"dataframe\">\n",
              "  <thead>\n",
              "    <tr style=\"text-align: right;\">\n",
              "      <th></th>\n",
              "      <th>charges</th>\n",
              "    </tr>\n",
              "  </thead>\n",
              "  <tbody>\n",
              "    <tr>\n",
              "      <th>0</th>\n",
              "      <td>16884.92400</td>\n",
              "    </tr>\n",
              "    <tr>\n",
              "      <th>1</th>\n",
              "      <td>1725.55230</td>\n",
              "    </tr>\n",
              "    <tr>\n",
              "      <th>2</th>\n",
              "      <td>4449.46200</td>\n",
              "    </tr>\n",
              "    <tr>\n",
              "      <th>3</th>\n",
              "      <td>21984.47061</td>\n",
              "    </tr>\n",
              "    <tr>\n",
              "      <th>4</th>\n",
              "      <td>3866.85520</td>\n",
              "    </tr>\n",
              "    <tr>\n",
              "      <th>...</th>\n",
              "      <td>...</td>\n",
              "    </tr>\n",
              "    <tr>\n",
              "      <th>1333</th>\n",
              "      <td>10600.54830</td>\n",
              "    </tr>\n",
              "    <tr>\n",
              "      <th>1334</th>\n",
              "      <td>2205.98080</td>\n",
              "    </tr>\n",
              "    <tr>\n",
              "      <th>1335</th>\n",
              "      <td>1629.83350</td>\n",
              "    </tr>\n",
              "    <tr>\n",
              "      <th>1336</th>\n",
              "      <td>2007.94500</td>\n",
              "    </tr>\n",
              "    <tr>\n",
              "      <th>1337</th>\n",
              "      <td>29141.36030</td>\n",
              "    </tr>\n",
              "  </tbody>\n",
              "</table>\n",
              "<p>1338 rows × 1 columns</p>\n",
              "</div>\n",
              "      <button class=\"colab-df-convert\" onclick=\"convertToInteractive('df-5956b561-5bb2-413d-a372-3a563b237e63')\"\n",
              "              title=\"Convert this dataframe to an interactive table.\"\n",
              "              style=\"display:none;\">\n",
              "        \n",
              "  <svg xmlns=\"http://www.w3.org/2000/svg\" height=\"24px\"viewBox=\"0 0 24 24\"\n",
              "       width=\"24px\">\n",
              "    <path d=\"M0 0h24v24H0V0z\" fill=\"none\"/>\n",
              "    <path d=\"M18.56 5.44l.94 2.06.94-2.06 2.06-.94-2.06-.94-.94-2.06-.94 2.06-2.06.94zm-11 1L8.5 8.5l.94-2.06 2.06-.94-2.06-.94L8.5 2.5l-.94 2.06-2.06.94zm10 10l.94 2.06.94-2.06 2.06-.94-2.06-.94-.94-2.06-.94 2.06-2.06.94z\"/><path d=\"M17.41 7.96l-1.37-1.37c-.4-.4-.92-.59-1.43-.59-.52 0-1.04.2-1.43.59L10.3 9.45l-7.72 7.72c-.78.78-.78 2.05 0 2.83L4 21.41c.39.39.9.59 1.41.59.51 0 1.02-.2 1.41-.59l7.78-7.78 2.81-2.81c.8-.78.8-2.07 0-2.86zM5.41 20L4 18.59l7.72-7.72 1.47 1.35L5.41 20z\"/>\n",
              "  </svg>\n",
              "      </button>\n",
              "      \n",
              "  <style>\n",
              "    .colab-df-container {\n",
              "      display:flex;\n",
              "      flex-wrap:wrap;\n",
              "      gap: 12px;\n",
              "    }\n",
              "\n",
              "    .colab-df-convert {\n",
              "      background-color: #E8F0FE;\n",
              "      border: none;\n",
              "      border-radius: 50%;\n",
              "      cursor: pointer;\n",
              "      display: none;\n",
              "      fill: #1967D2;\n",
              "      height: 32px;\n",
              "      padding: 0 0 0 0;\n",
              "      width: 32px;\n",
              "    }\n",
              "\n",
              "    .colab-df-convert:hover {\n",
              "      background-color: #E2EBFA;\n",
              "      box-shadow: 0px 1px 2px rgba(60, 64, 67, 0.3), 0px 1px 3px 1px rgba(60, 64, 67, 0.15);\n",
              "      fill: #174EA6;\n",
              "    }\n",
              "\n",
              "    [theme=dark] .colab-df-convert {\n",
              "      background-color: #3B4455;\n",
              "      fill: #D2E3FC;\n",
              "    }\n",
              "\n",
              "    [theme=dark] .colab-df-convert:hover {\n",
              "      background-color: #434B5C;\n",
              "      box-shadow: 0px 1px 3px 1px rgba(0, 0, 0, 0.15);\n",
              "      filter: drop-shadow(0px 1px 2px rgba(0, 0, 0, 0.3));\n",
              "      fill: #FFFFFF;\n",
              "    }\n",
              "  </style>\n",
              "\n",
              "      <script>\n",
              "        const buttonEl =\n",
              "          document.querySelector('#df-5956b561-5bb2-413d-a372-3a563b237e63 button.colab-df-convert');\n",
              "        buttonEl.style.display =\n",
              "          google.colab.kernel.accessAllowed ? 'block' : 'none';\n",
              "\n",
              "        async function convertToInteractive(key) {\n",
              "          const element = document.querySelector('#df-5956b561-5bb2-413d-a372-3a563b237e63');\n",
              "          const dataTable =\n",
              "            await google.colab.kernel.invokeFunction('convertToInteractive',\n",
              "                                                     [key], {});\n",
              "          if (!dataTable) return;\n",
              "\n",
              "          const docLinkHtml = 'Like what you see? Visit the ' +\n",
              "            '<a target=\"_blank\" href=https://colab.research.google.com/notebooks/data_table.ipynb>data table notebook</a>'\n",
              "            + ' to learn more about interactive tables.';\n",
              "          element.innerHTML = '';\n",
              "          dataTable['output_type'] = 'display_data';\n",
              "          await google.colab.output.renderOutput(dataTable, element);\n",
              "          const docLink = document.createElement('div');\n",
              "          docLink.innerHTML = docLinkHtml;\n",
              "          element.appendChild(docLink);\n",
              "        }\n",
              "      </script>\n",
              "    </div>\n",
              "  </div>\n",
              "  "
            ],
            "text/plain": [
              "          charges\n",
              "0     16884.92400\n",
              "1      1725.55230\n",
              "2      4449.46200\n",
              "3     21984.47061\n",
              "4      3866.85520\n",
              "...           ...\n",
              "1333  10600.54830\n",
              "1334   2205.98080\n",
              "1335   1629.83350\n",
              "1336   2007.94500\n",
              "1337  29141.36030\n",
              "\n",
              "[1338 rows x 1 columns]"
            ]
          },
          "metadata": {},
          "execution_count": 63
        }
      ]
    },
    {
      "cell_type": "markdown",
      "metadata": {
        "id": "qgMEwFM6PJQ8"
      },
      "source": [
        "### **Splitting Dataset**"
      ]
    },
    {
      "cell_type": "code",
      "metadata": {
        "id": "MLrOHTwcDGPP"
      },
      "source": [
        "from sklearn.model_selection import train_test_split"
      ],
      "execution_count": 64,
      "outputs": []
    },
    {
      "cell_type": "code",
      "metadata": {
        "id": "W9khVh8_DHRp"
      },
      "source": [
        "\"\"\"Spliting the Dataset into Training Set and Test Set \"\"\"\n",
        "\n",
        "X_train,X_test,y_train,y_test=train_test_split(features,target,test_size = 0.2,random_state = 0)\n",
        "# random_state = 0 is select to get the same result"
      ],
      "execution_count": 65,
      "outputs": []
    },
    {
      "cell_type": "code",
      "metadata": {
        "id": "O6_VUd3KDMfC",
        "colab": {
          "base_uri": "https://localhost:8080/"
        },
        "outputId": "d5adc4ff-4492-4ee5-8c8d-deb24bdfa121"
      },
      "source": [
        "print(X_train.shape)\n",
        "print(X_test.shape)"
      ],
      "execution_count": 66,
      "outputs": [
        {
          "output_type": "stream",
          "name": "stdout",
          "text": [
            "(1070, 4)\n",
            "(268, 4)\n"
          ]
        }
      ]
    },
    {
      "cell_type": "markdown",
      "metadata": {
        "id": "gyrekZKMPtUf"
      },
      "source": [
        "### **Feature Scaling**"
      ]
    },
    {
      "cell_type": "code",
      "metadata": {
        "id": "d4gRByHwFip3"
      },
      "source": [
        "from sklearn.preprocessing import StandardScaler\n",
        "X_sc = StandardScaler()\n",
        "y_sc = StandardScaler()\n",
        "y_train = y_sc.fit_transform(y_train[['charges']])\n",
        "y_test = y_sc.transform(y_test[['charges']])"
      ],
      "execution_count": 67,
      "outputs": []
    },
    {
      "cell_type": "markdown",
      "source": [
        "### Different types of Regression Algorithm\n",
        "\n",
        "1. Linear Regression (Univariate or Multivariate)\n",
        "2. Support Vector Regression\n",
        "3. Decision Tree Regression\n",
        "4. Random Forest Regressrion"
      ],
      "metadata": {
        "id": "SzECkz2GmLjw"
      }
    },
    {
      "cell_type": "markdown",
      "metadata": {
        "id": "yl9CDdnCPyNF"
      },
      "source": [
        "### **Simple Linear Regression**"
      ]
    },
    {
      "cell_type": "code",
      "metadata": {
        "id": "l5XmPFTXDNT3",
        "colab": {
          "base_uri": "https://localhost:8080/"
        },
        "outputId": "ac4df04c-161b-4480-a192-d4c348cce818"
      },
      "source": [
        "from sklearn.linear_model import LinearRegression\n",
        "\n",
        "\n",
        "regressor = LinearRegression()\n",
        "\n",
        "\n",
        "regressor.fit(X_train,y_train)"
      ],
      "execution_count": 68,
      "outputs": [
        {
          "output_type": "execute_result",
          "data": {
            "text/plain": [
              "LinearRegression()"
            ]
          },
          "metadata": {},
          "execution_count": 68
        }
      ]
    },
    {
      "cell_type": "code",
      "metadata": {
        "id": "QPmNm5oTDS3_"
      },
      "source": [
        "# predicting the Test set Results\n",
        "y_pred = regressor.predict(X_test)"
      ],
      "execution_count": 69,
      "outputs": []
    },
    {
      "cell_type": "code",
      "metadata": {
        "colab": {
          "base_uri": "https://localhost:8080/"
        },
        "id": "-qoVX9vS_PCp",
        "outputId": "301f37e3-80d8-4a78-e891-b897ce41b0c9"
      },
      "source": [
        "regressor.score(X_train,y_train)"
      ],
      "execution_count": 70,
      "outputs": [
        {
          "output_type": "execute_result",
          "data": {
            "text/plain": [
              "0.7361379262990395"
            ]
          },
          "metadata": {},
          "execution_count": 70
        }
      ]
    },
    {
      "cell_type": "code",
      "metadata": {
        "id": "13qUvnP9DaRf",
        "colab": {
          "base_uri": "https://localhost:8080/"
        },
        "outputId": "e00f56d8-4342-43f7-9ef0-8500b246f822"
      },
      "source": [
        "y_test"
      ],
      "execution_count": 71,
      "outputs": [
        {
          "output_type": "execute_result",
          "data": {
            "text/plain": [
              "array([[-2.90360755e-01],\n",
              "       [-3.88647200e-01],\n",
              "       [ 2.71438394e+00],\n",
              "       [-2.09721124e-02],\n",
              "       [-2.97065319e-01],\n",
              "       [-7.26671304e-01],\n",
              "       [-9.18940714e-01],\n",
              "       [-1.47361673e-01],\n",
              "       [-4.73043767e-01],\n",
              "       [-6.49444142e-01],\n",
              "       [-5.38531882e-01],\n",
              "       [-2.26101189e-01],\n",
              "       [-4.89698454e-01],\n",
              "       [-7.52999425e-01],\n",
              "       [ 4.26736889e-01],\n",
              "       [-2.08671402e-01],\n",
              "       [-5.65894545e-02],\n",
              "       [-8.11006298e-01],\n",
              "       [-5.63185752e-01],\n",
              "       [ 1.69328373e+00],\n",
              "       [ 8.99164540e-01],\n",
              "       [-4.65863314e-02],\n",
              "       [ 8.22176839e-01],\n",
              "       [ 8.23835038e-01],\n",
              "       [-9.62666851e-01],\n",
              "       [-7.12701491e-01],\n",
              "       [-7.90788753e-01],\n",
              "       [-4.60891484e-01],\n",
              "       [-7.88784629e-01],\n",
              "       [-3.99857588e-01],\n",
              "       [-4.29404684e-01],\n",
              "       [ 2.98733744e+00],\n",
              "       [-1.85261566e-02],\n",
              "       [ 6.20458841e-01],\n",
              "       [ 1.14477957e-01],\n",
              "       [-7.56972780e-01],\n",
              "       [-4.05394683e-01],\n",
              "       [ 3.17310604e+00],\n",
              "       [ 2.23844447e+00],\n",
              "       [-9.45474413e-01],\n",
              "       [-6.46686140e-01],\n",
              "       [-8.63073476e-01],\n",
              "       [ 5.80290287e-01],\n",
              "       [ 2.86425349e+00],\n",
              "       [ 1.91658125e+00],\n",
              "       [ 1.07050601e+00],\n",
              "       [ 5.46888400e-01],\n",
              "       [-5.22841324e-01],\n",
              "       [-7.08475856e-01],\n",
              "       [ 7.50925765e-01],\n",
              "       [-8.60370040e-01],\n",
              "       [ 4.70830846e-01],\n",
              "       [ 8.65831844e-01],\n",
              "       [ 2.76057657e+00],\n",
              "       [ 9.20875224e-01],\n",
              "       [-8.29522299e-01],\n",
              "       [-9.08548487e-01],\n",
              "       [-3.65302549e-01],\n",
              "       [ 1.06664020e-01],\n",
              "       [-7.39773739e-03],\n",
              "       [-9.97802290e-01],\n",
              "       [ 2.79924934e+00],\n",
              "       [ 6.00189764e-02],\n",
              "       [-2.98222493e-01],\n",
              "       [-2.05812741e-01],\n",
              "       [-2.77370634e-01],\n",
              "       [ 1.61582334e+00],\n",
              "       [ 2.13346507e+00],\n",
              "       [-8.36899933e-01],\n",
              "       [-4.20799295e-01],\n",
              "       [-1.33010608e-02],\n",
              "       [-1.37549600e-01],\n",
              "       [ 2.53196612e-01],\n",
              "       [ 5.73585815e-02],\n",
              "       [-1.57825574e-02],\n",
              "       [ 1.32896510e-03],\n",
              "       [-5.05620452e-01],\n",
              "       [-4.56819420e-01],\n",
              "       [ 5.92612482e-01],\n",
              "       [ 2.85651858e+00],\n",
              "       [-1.28850805e-01],\n",
              "       [ 2.72784549e+00],\n",
              "       [-9.30872415e-01],\n",
              "       [-4.81070695e-01],\n",
              "       [ 2.32454159e+00],\n",
              "       [ 4.82004743e-01],\n",
              "       [-8.17706486e-01],\n",
              "       [-8.77066912e-01],\n",
              "       [-7.24391093e-02],\n",
              "       [ 1.97403980e+00],\n",
              "       [-5.73500131e-01],\n",
              "       [-2.49428402e-01],\n",
              "       [ 3.90670648e-01],\n",
              "       [-3.91314126e-01],\n",
              "       [-7.25127319e-01],\n",
              "       [-6.72534245e-01],\n",
              "       [ 2.43056442e+00],\n",
              "       [ 2.15452739e+00],\n",
              "       [-6.57597364e-01],\n",
              "       [-2.17044634e-01],\n",
              "       [-9.50168221e-01],\n",
              "       [-6.53416690e-01],\n",
              "       [-7.39272172e-01],\n",
              "       [ 2.04963208e+00],\n",
              "       [ 1.63579385e+00],\n",
              "       [-8.22454756e-01],\n",
              "       [-2.19157456e-01],\n",
              "       [-8.05462985e-01],\n",
              "       [-1.04946871e-01],\n",
              "       [ 3.28971883e+00],\n",
              "       [-6.06194588e-02],\n",
              "       [-7.46228849e-01],\n",
              "       [-3.30034401e-01],\n",
              "       [ 1.71473679e+00],\n",
              "       [ 2.96272239e+00],\n",
              "       [-4.56968194e-01],\n",
              "       [-9.38434485e-01],\n",
              "       [-3.97267635e-01],\n",
              "       [-7.13246538e-02],\n",
              "       [-3.25658230e-01],\n",
              "       [ 2.41560005e+00],\n",
              "       [-2.68102743e-01],\n",
              "       [ 9.33597777e-02],\n",
              "       [-6.49134764e-01],\n",
              "       [-4.65541479e-01],\n",
              "       [-6.92757382e-01],\n",
              "       [ 8.51887266e-01],\n",
              "       [ 6.59567554e-01],\n",
              "       [ 2.92078359e+00],\n",
              "       [-9.42398352e-01],\n",
              "       [-4.16081596e-01],\n",
              "       [-9.58414148e-01],\n",
              "       [-6.03358623e-01],\n",
              "       [-3.20694522e-01],\n",
              "       [ 7.46883098e-01],\n",
              "       [ 1.86163990e+00],\n",
              "       [ 5.27358555e-01],\n",
              "       [-2.58399451e-01],\n",
              "       [ 8.38815502e-01],\n",
              "       [-8.69593024e-01],\n",
              "       [-9.13647472e-01],\n",
              "       [-2.17703039e-01],\n",
              "       [-3.25423684e-01],\n",
              "       [-2.31018736e-01],\n",
              "       [-6.93730889e-01],\n",
              "       [ 9.29267653e-02],\n",
              "       [ 1.26000246e+00],\n",
              "       [ 1.02299712e-01],\n",
              "       [-9.66621385e-01],\n",
              "       [ 1.02859393e+00],\n",
              "       [-5.55065615e-01],\n",
              "       [ 2.20574120e+00],\n",
              "       [-2.70355845e-01],\n",
              "       [-9.58848321e-01],\n",
              "       [-8.74516334e-01],\n",
              "       [-5.59645243e-01],\n",
              "       [-8.81768926e-01],\n",
              "       [-9.58924940e-01],\n",
              "       [-1.76688902e-01],\n",
              "       [-2.57748997e-01],\n",
              "       [-6.97725787e-01],\n",
              "       [-1.82324511e-02],\n",
              "       [ 1.31305595e+00],\n",
              "       [-3.18187398e-01],\n",
              "       [-7.23005264e-01],\n",
              "       [ 3.27993000e-01],\n",
              "       [ 5.37287088e-02],\n",
              "       [-5.91966861e-01],\n",
              "       [-7.31609359e-01],\n",
              "       [-9.66063543e-01],\n",
              "       [-7.63554803e-01],\n",
              "       [-7.32120398e-01],\n",
              "       [-4.08428463e-01],\n",
              "       [-9.36584292e-01],\n",
              "       [-7.46681664e-01],\n",
              "       [-7.26310246e-01],\n",
              "       [-7.32638736e-01],\n",
              "       [-5.91610789e-01],\n",
              "       [ 1.41843812e+00],\n",
              "       [-9.59802753e-01],\n",
              "       [-1.68164295e-01],\n",
              "       [-5.34871713e-01],\n",
              "       [-1.54049513e-01],\n",
              "       [-8.93866756e-01],\n",
              "       [ 1.18383523e+00],\n",
              "       [ 1.24442107e+00],\n",
              "       [-9.14213060e-01],\n",
              "       [-8.85568088e-01],\n",
              "       [ 1.24565061e-01],\n",
              "       [-2.36376599e-01],\n",
              "       [ 2.32979820e+00],\n",
              "       [-7.69963561e-01],\n",
              "       [-6.45483277e-01],\n",
              "       [ 6.70017391e-01],\n",
              "       [-8.90861856e-01],\n",
              "       [-9.37752148e-01],\n",
              "       [-5.67481274e-01],\n",
              "       [-5.55342913e-01],\n",
              "       [-7.63604608e-01],\n",
              "       [-7.48114316e-01],\n",
              "       [-1.41042179e-01],\n",
              "       [ 2.81353898e+00],\n",
              "       [-7.78840854e-02],\n",
              "       [ 5.01000680e-01],\n",
              "       [-7.32262920e-01],\n",
              "       [ 2.48620038e+00],\n",
              "       [ 8.38538586e-01],\n",
              "       [-3.39099724e-01],\n",
              "       [-6.15077000e-01],\n",
              "       [-1.00653320e+00],\n",
              "       [-3.70477358e-01],\n",
              "       [ 7.03462137e-02],\n",
              "       [-6.58869367e-01],\n",
              "       [-2.00879657e-01],\n",
              "       [-5.77852099e-01],\n",
              "       [-9.38030762e-01],\n",
              "       [-5.39057665e-01],\n",
              "       [-6.55369589e-01],\n",
              "       [ 6.68226169e-02],\n",
              "       [-5.28097049e-01],\n",
              "       [-5.85016802e-01],\n",
              "       [-4.35518476e-01],\n",
              "       [-4.11210940e-01],\n",
              "       [-8.34730048e-01],\n",
              "       [-1.13002399e-01],\n",
              "       [ 8.42985590e-02],\n",
              "       [-7.81451063e-02],\n",
              "       [-1.13919503e-01],\n",
              "       [-5.46926144e-01],\n",
              "       [-9.23996541e-01],\n",
              "       [-1.00802727e+00],\n",
              "       [-4.05750096e-01],\n",
              "       [-7.98969578e-02],\n",
              "       [-7.21589336e-01],\n",
              "       [ 3.69569057e-01],\n",
              "       [-5.28265679e-01],\n",
              "       [-3.13507387e-01],\n",
              "       [ 1.75827995e+00],\n",
              "       [-5.95817370e-01],\n",
              "       [-1.22895989e-01],\n",
              "       [-6.52909055e-01],\n",
              "       [ 2.02647840e+00],\n",
              "       [-4.86856860e-01],\n",
              "       [-4.90759108e-01],\n",
              "       [-4.00142900e-01],\n",
              "       [-2.28770938e-01],\n",
              "       [-8.28601779e-01],\n",
              "       [-4.57168013e-01],\n",
              "       [-8.74365639e-01],\n",
              "       [-5.29725679e-01],\n",
              "       [ 5.27895287e-01],\n",
              "       [ 2.84828586e+00],\n",
              "       [-7.69466699e-01],\n",
              "       [-8.32062140e-01],\n",
              "       [-4.90868798e-01],\n",
              "       [-9.60166692e-01],\n",
              "       [-4.80664383e-01],\n",
              "       [-9.66408328e-01],\n",
              "       [-6.95131663e-01],\n",
              "       [-8.05048187e-01],\n",
              "       [-3.83830738e-01],\n",
              "       [ 9.45339690e-01],\n",
              "       [ 2.71506757e+00],\n",
              "       [ 1.51882809e-01],\n",
              "       [-5.45910811e-01],\n",
              "       [ 6.27034732e-01],\n",
              "       [ 2.31604020e+00],\n",
              "       [-3.09065045e-01]])"
            ]
          },
          "metadata": {},
          "execution_count": 71
        }
      ]
    },
    {
      "cell_type": "code",
      "metadata": {
        "id": "KK_nepLGDdY4",
        "colab": {
          "base_uri": "https://localhost:8080/",
          "height": 424
        },
        "outputId": "108e0ea3-8649-4b7b-f8ef-9ef9bcee03a5"
      },
      "source": [
        "X_test"
      ],
      "execution_count": 72,
      "outputs": [
        {
          "output_type": "execute_result",
          "data": {
            "text/html": [
              "\n",
              "  <div id=\"df-a98bd07b-ab40-4e2b-8b19-197e1a39722e\">\n",
              "    <div class=\"colab-df-container\">\n",
              "      <div>\n",
              "<style scoped>\n",
              "    .dataframe tbody tr th:only-of-type {\n",
              "        vertical-align: middle;\n",
              "    }\n",
              "\n",
              "    .dataframe tbody tr th {\n",
              "        vertical-align: top;\n",
              "    }\n",
              "\n",
              "    .dataframe thead th {\n",
              "        text-align: right;\n",
              "    }\n",
              "</style>\n",
              "<table border=\"1\" class=\"dataframe\">\n",
              "  <thead>\n",
              "    <tr style=\"text-align: right;\">\n",
              "      <th></th>\n",
              "      <th>age</th>\n",
              "      <th>bmi</th>\n",
              "      <th>smoker</th>\n",
              "      <th>children</th>\n",
              "    </tr>\n",
              "  </thead>\n",
              "  <tbody>\n",
              "    <tr>\n",
              "      <th>578</th>\n",
              "      <td>52.0</td>\n",
              "      <td>30.200</td>\n",
              "      <td>0.0</td>\n",
              "      <td>1.0</td>\n",
              "    </tr>\n",
              "    <tr>\n",
              "      <th>610</th>\n",
              "      <td>47.0</td>\n",
              "      <td>29.370</td>\n",
              "      <td>0.0</td>\n",
              "      <td>1.0</td>\n",
              "    </tr>\n",
              "    <tr>\n",
              "      <th>569</th>\n",
              "      <td>48.0</td>\n",
              "      <td>40.565</td>\n",
              "      <td>1.0</td>\n",
              "      <td>2.0</td>\n",
              "    </tr>\n",
              "    <tr>\n",
              "      <th>1034</th>\n",
              "      <td>61.0</td>\n",
              "      <td>38.380</td>\n",
              "      <td>0.0</td>\n",
              "      <td>0.0</td>\n",
              "    </tr>\n",
              "    <tr>\n",
              "      <th>198</th>\n",
              "      <td>51.0</td>\n",
              "      <td>18.050</td>\n",
              "      <td>0.0</td>\n",
              "      <td>0.0</td>\n",
              "    </tr>\n",
              "    <tr>\n",
              "      <th>...</th>\n",
              "      <td>...</td>\n",
              "      <td>...</td>\n",
              "      <td>...</td>\n",
              "      <td>...</td>\n",
              "    </tr>\n",
              "    <tr>\n",
              "      <th>1084</th>\n",
              "      <td>62.0</td>\n",
              "      <td>30.495</td>\n",
              "      <td>0.0</td>\n",
              "      <td>2.0</td>\n",
              "    </tr>\n",
              "    <tr>\n",
              "      <th>726</th>\n",
              "      <td>41.0</td>\n",
              "      <td>28.405</td>\n",
              "      <td>0.0</td>\n",
              "      <td>1.0</td>\n",
              "    </tr>\n",
              "    <tr>\n",
              "      <th>1132</th>\n",
              "      <td>57.0</td>\n",
              "      <td>40.280</td>\n",
              "      <td>0.0</td>\n",
              "      <td>0.0</td>\n",
              "    </tr>\n",
              "    <tr>\n",
              "      <th>725</th>\n",
              "      <td>30.0</td>\n",
              "      <td>39.050</td>\n",
              "      <td>1.0</td>\n",
              "      <td>3.0</td>\n",
              "    </tr>\n",
              "    <tr>\n",
              "      <th>963</th>\n",
              "      <td>46.0</td>\n",
              "      <td>24.795</td>\n",
              "      <td>0.0</td>\n",
              "      <td>3.0</td>\n",
              "    </tr>\n",
              "  </tbody>\n",
              "</table>\n",
              "<p>268 rows × 4 columns</p>\n",
              "</div>\n",
              "      <button class=\"colab-df-convert\" onclick=\"convertToInteractive('df-a98bd07b-ab40-4e2b-8b19-197e1a39722e')\"\n",
              "              title=\"Convert this dataframe to an interactive table.\"\n",
              "              style=\"display:none;\">\n",
              "        \n",
              "  <svg xmlns=\"http://www.w3.org/2000/svg\" height=\"24px\"viewBox=\"0 0 24 24\"\n",
              "       width=\"24px\">\n",
              "    <path d=\"M0 0h24v24H0V0z\" fill=\"none\"/>\n",
              "    <path d=\"M18.56 5.44l.94 2.06.94-2.06 2.06-.94-2.06-.94-.94-2.06-.94 2.06-2.06.94zm-11 1L8.5 8.5l.94-2.06 2.06-.94-2.06-.94L8.5 2.5l-.94 2.06-2.06.94zm10 10l.94 2.06.94-2.06 2.06-.94-2.06-.94-.94-2.06-.94 2.06-2.06.94z\"/><path d=\"M17.41 7.96l-1.37-1.37c-.4-.4-.92-.59-1.43-.59-.52 0-1.04.2-1.43.59L10.3 9.45l-7.72 7.72c-.78.78-.78 2.05 0 2.83L4 21.41c.39.39.9.59 1.41.59.51 0 1.02-.2 1.41-.59l7.78-7.78 2.81-2.81c.8-.78.8-2.07 0-2.86zM5.41 20L4 18.59l7.72-7.72 1.47 1.35L5.41 20z\"/>\n",
              "  </svg>\n",
              "      </button>\n",
              "      \n",
              "  <style>\n",
              "    .colab-df-container {\n",
              "      display:flex;\n",
              "      flex-wrap:wrap;\n",
              "      gap: 12px;\n",
              "    }\n",
              "\n",
              "    .colab-df-convert {\n",
              "      background-color: #E8F0FE;\n",
              "      border: none;\n",
              "      border-radius: 50%;\n",
              "      cursor: pointer;\n",
              "      display: none;\n",
              "      fill: #1967D2;\n",
              "      height: 32px;\n",
              "      padding: 0 0 0 0;\n",
              "      width: 32px;\n",
              "    }\n",
              "\n",
              "    .colab-df-convert:hover {\n",
              "      background-color: #E2EBFA;\n",
              "      box-shadow: 0px 1px 2px rgba(60, 64, 67, 0.3), 0px 1px 3px 1px rgba(60, 64, 67, 0.15);\n",
              "      fill: #174EA6;\n",
              "    }\n",
              "\n",
              "    [theme=dark] .colab-df-convert {\n",
              "      background-color: #3B4455;\n",
              "      fill: #D2E3FC;\n",
              "    }\n",
              "\n",
              "    [theme=dark] .colab-df-convert:hover {\n",
              "      background-color: #434B5C;\n",
              "      box-shadow: 0px 1px 3px 1px rgba(0, 0, 0, 0.15);\n",
              "      filter: drop-shadow(0px 1px 2px rgba(0, 0, 0, 0.3));\n",
              "      fill: #FFFFFF;\n",
              "    }\n",
              "  </style>\n",
              "\n",
              "      <script>\n",
              "        const buttonEl =\n",
              "          document.querySelector('#df-a98bd07b-ab40-4e2b-8b19-197e1a39722e button.colab-df-convert');\n",
              "        buttonEl.style.display =\n",
              "          google.colab.kernel.accessAllowed ? 'block' : 'none';\n",
              "\n",
              "        async function convertToInteractive(key) {\n",
              "          const element = document.querySelector('#df-a98bd07b-ab40-4e2b-8b19-197e1a39722e');\n",
              "          const dataTable =\n",
              "            await google.colab.kernel.invokeFunction('convertToInteractive',\n",
              "                                                     [key], {});\n",
              "          if (!dataTable) return;\n",
              "\n",
              "          const docLinkHtml = 'Like what you see? Visit the ' +\n",
              "            '<a target=\"_blank\" href=https://colab.research.google.com/notebooks/data_table.ipynb>data table notebook</a>'\n",
              "            + ' to learn more about interactive tables.';\n",
              "          element.innerHTML = '';\n",
              "          dataTable['output_type'] = 'display_data';\n",
              "          await google.colab.output.renderOutput(dataTable, element);\n",
              "          const docLink = document.createElement('div');\n",
              "          docLink.innerHTML = docLinkHtml;\n",
              "          element.appendChild(docLink);\n",
              "        }\n",
              "      </script>\n",
              "    </div>\n",
              "  </div>\n",
              "  "
            ],
            "text/plain": [
              "       age     bmi  smoker  children\n",
              "578   52.0  30.200     0.0       1.0\n",
              "610   47.0  29.370     0.0       1.0\n",
              "569   48.0  40.565     1.0       2.0\n",
              "1034  61.0  38.380     0.0       0.0\n",
              "198   51.0  18.050     0.0       0.0\n",
              "...    ...     ...     ...       ...\n",
              "1084  62.0  30.495     0.0       2.0\n",
              "726   41.0  28.405     0.0       1.0\n",
              "1132  57.0  40.280     0.0       0.0\n",
              "725   30.0  39.050     1.0       3.0\n",
              "963   46.0  24.795     0.0       3.0\n",
              "\n",
              "[268 rows x 4 columns]"
            ]
          },
          "metadata": {},
          "execution_count": 72
        }
      ]
    },
    {
      "cell_type": "code",
      "metadata": {
        "id": "Pjn-KKbFDgkW",
        "colab": {
          "base_uri": "https://localhost:8080/"
        },
        "outputId": "dc0f3494-0ddf-4dbe-a459-99cc374affd7"
      },
      "source": [
        "y_pred"
      ],
      "execution_count": 73,
      "outputs": [
        {
          "output_type": "execute_result",
          "data": {
            "text/plain": [
              "array([[-0.1453172 ],\n",
              "       [-0.27401501],\n",
              "       [ 2.05297905],\n",
              "       [ 0.22941353],\n",
              "       [-0.52791336],\n",
              "       [-0.80088618],\n",
              "       [-1.0093192 ],\n",
              "       [ 0.07092162],\n",
              "       [-0.37125691],\n",
              "       [-0.49742414],\n",
              "       [-0.75660804],\n",
              "       [-0.2585217 ],\n",
              "       [-0.34500123],\n",
              "       [-0.74358949],\n",
              "       [ 1.21081013],\n",
              "       [-0.1706158 ],\n",
              "       [-0.16836915],\n",
              "       [-0.63765533],\n",
              "       [-0.43265334],\n",
              "       [ 1.12025665],\n",
              "       [ 1.69458544],\n",
              "       [ 0.07275264],\n",
              "       [-0.16320059],\n",
              "       [ 1.61876017],\n",
              "       [-0.72451664],\n",
              "       [-0.38015231],\n",
              "       [-1.03803848],\n",
              "       [-0.25395931],\n",
              "       [-0.7478871 ],\n",
              "       [-0.25052165],\n",
              "       [-0.36936925],\n",
              "       [ 2.26665788],\n",
              "       [ 0.22446636],\n",
              "       [ 0.07272686],\n",
              "       [ 0.93324406],\n",
              "       [-0.71053946],\n",
              "       [-0.02371172],\n",
              "       [ 1.47960298],\n",
              "       [ 1.67402796],\n",
              "       [-0.77969103],\n",
              "       [-0.79899852],\n",
              "       [-0.73156623],\n",
              "       [ 1.41038016],\n",
              "       [ 2.16925858],\n",
              "       [ 1.24274931],\n",
              "       [-0.70308231],\n",
              "       [-0.17945229],\n",
              "       [-0.46229221],\n",
              "       [-0.83484327],\n",
              "       [-0.20539899],\n",
              "       [-0.67390101],\n",
              "       [-0.8369053 ],\n",
              "       [ 1.68056488],\n",
              "       [ 2.05869867],\n",
              "       [ 0.2600536 ],\n",
              "       [-0.55216528],\n",
              "       [-0.59515602],\n",
              "       [-0.32535009],\n",
              "       [-0.31845345],\n",
              "       [-0.13241111],\n",
              "       [-0.92416092],\n",
              "       [ 2.12758909],\n",
              "       [ 0.17487698],\n",
              "       [-0.09571602],\n",
              "       [ 0.02264532],\n",
              "       [ 0.08241668],\n",
              "       [ 1.087314  ],\n",
              "       [ 1.5615804 ],\n",
              "       [-0.99200884],\n",
              "       [-0.27490293],\n",
              "       [-0.04317888],\n",
              "       [-0.09936109],\n",
              "       [ 1.02961566],\n",
              "       [ 0.23103341],\n",
              "       [-0.17600066],\n",
              "       [-0.08187863],\n",
              "       [-0.52058274],\n",
              "       [-0.26659463],\n",
              "       [ 1.38085456],\n",
              "       [ 2.17964507],\n",
              "       [-0.13398688],\n",
              "       [ 2.02548009],\n",
              "       [-0.76896688],\n",
              "       [-0.29437898],\n",
              "       [ 1.76046184],\n",
              "       [ 1.34610078],\n",
              "       [-0.37229278],\n",
              "       [-0.71177094],\n",
              "       [-0.068554  ],\n",
              "       [ 1.45677905],\n",
              "       [-0.31332392],\n",
              "       [-0.12542479],\n",
              "       [-0.4583309 ],\n",
              "       [-0.32188302],\n",
              "       [-0.44474875],\n",
              "       [-0.53532648],\n",
              "       [ 1.86556554],\n",
              "       [ 1.6902547 ],\n",
              "       [-0.48759308],\n",
              "       [ 0.17435315],\n",
              "       [-0.73562257],\n",
              "       [-0.38909619],\n",
              "       [-0.54545182],\n",
              "       [ 1.56125008],\n",
              "       [ 1.63301465],\n",
              "       [-0.94740412],\n",
              "       [-0.3129928 ],\n",
              "       [-0.56997215],\n",
              "       [ 0.07140788],\n",
              "       [ 2.02867212],\n",
              "       [-0.26457744],\n",
              "       [-0.20242199],\n",
              "       [-0.26584133],\n",
              "       [ 1.10564979],\n",
              "       [ 2.25057827],\n",
              "       [-0.43142185],\n",
              "       [-1.04631592],\n",
              "       [-0.32026241],\n",
              "       [ 0.1885076 ],\n",
              "       [-0.32046102],\n",
              "       [ 1.85942293],\n",
              "       [-0.4989873 ],\n",
              "       [ 0.32864312],\n",
              "       [-0.34828149],\n",
              "       [-0.38797209],\n",
              "       [-0.86596887],\n",
              "       [ 1.60906299],\n",
              "       [ 1.51594143],\n",
              "       [ 2.21879059],\n",
              "       [-0.66306948],\n",
              "       [-0.29015861],\n",
              "       [-0.77373677],\n",
              "       [-0.4303199 ],\n",
              "       [-0.41089678],\n",
              "       [ 1.5703941 ],\n",
              "       [ 1.42145959],\n",
              "       [ 1.42686805],\n",
              "       [-0.33028473],\n",
              "       [ 1.64993806],\n",
              "       [-0.83890624],\n",
              "       [-0.81664363],\n",
              "       [-0.18580749],\n",
              "       [ 0.02249891],\n",
              "       [-0.06973474],\n",
              "       [-0.66063075],\n",
              "       [ 0.22876397],\n",
              "       [ 0.1729768 ],\n",
              "       [-0.91487711],\n",
              "       [-1.11012892],\n",
              "       [-0.22965228],\n",
              "       [-0.52203198],\n",
              "       [ 1.57578405],\n",
              "       [-0.11037951],\n",
              "       [-0.87388368],\n",
              "       [-0.5959292 ],\n",
              "       [-0.4112948 ],\n",
              "       [-0.75335955],\n",
              "       [-0.89155666],\n",
              "       [-0.17168689],\n",
              "       [-0.08039635],\n",
              "       [-0.54190088],\n",
              "       [ 0.2922128 ],\n",
              "       [-0.12766773],\n",
              "       [ 0.08777213],\n",
              "       [-0.8663698 ],\n",
              "       [-0.54184424],\n",
              "       [ 0.85836852],\n",
              "       [-0.51268718],\n",
              "       [-0.68126912],\n",
              "       [-0.64769244],\n",
              "       [-0.56259588],\n",
              "       [-0.70665086],\n",
              "       [-0.28802306],\n",
              "       [-0.62596311],\n",
              "       [-0.6030869 ],\n",
              "       [-0.51974638],\n",
              "       [-0.82621128],\n",
              "       [-0.64573625],\n",
              "       [ 2.03572325],\n",
              "       [-1.01440687],\n",
              "       [-0.06838997],\n",
              "       [-0.37474458],\n",
              "       [ 0.02721879],\n",
              "       [-0.62098944],\n",
              "       [-0.70098788],\n",
              "       [ 1.90778609],\n",
              "       [-0.77914223],\n",
              "       [-0.90720148],\n",
              "       [ 0.14829834],\n",
              "       [-0.08902833],\n",
              "       [ 1.7896189 ],\n",
              "       [-0.67051483],\n",
              "       [-0.60117201],\n",
              "       [ 1.54874429],\n",
              "       [-0.61096122],\n",
              "       [-0.89534224],\n",
              "       [-0.43868484],\n",
              "       [-0.31492393],\n",
              "       [-0.40928288],\n",
              "       [-0.63548002],\n",
              "       [-0.0464959 ],\n",
              "       [ 2.14276971],\n",
              "       [ 0.02347587],\n",
              "       [ 1.33424155],\n",
              "       [-0.55816439],\n",
              "       [ 1.890358  ],\n",
              "       [-0.82395509],\n",
              "       [-0.07684396],\n",
              "       [-0.31980711],\n",
              "       [-0.56227301],\n",
              "       [-0.17426313],\n",
              "       [ 0.07263936],\n",
              "       [-0.6884997 ],\n",
              "       [-0.71312968],\n",
              "       [-0.41704529],\n",
              "       [-0.95960764],\n",
              "       [-0.48507348],\n",
              "       [-0.76587197],\n",
              "       [ 0.01219856],\n",
              "       [-0.77447156],\n",
              "       [-0.2478403 ],\n",
              "       [-0.5356626 ],\n",
              "       [-0.30126382],\n",
              "       [-0.93657258],\n",
              "       [ 0.02414603],\n",
              "       [ 0.28057795],\n",
              "       [ 0.17156069],\n",
              "       [-0.18739424],\n",
              "       [-0.61466211],\n",
              "       [-0.87565434],\n",
              "       [-0.90689622],\n",
              "       [-0.02606431],\n",
              "       [ 0.10167279],\n",
              "       [-0.73066361],\n",
              "       [-0.74659898],\n",
              "       [-0.2900446 ],\n",
              "       [-0.30654275],\n",
              "       [ 1.21561016],\n",
              "       [-0.50168127],\n",
              "       [-0.26077789],\n",
              "       [-0.54901964],\n",
              "       [ 1.36041036],\n",
              "       [-0.15883608],\n",
              "       [-0.51002561],\n",
              "       [-0.26732805],\n",
              "       [-0.0983165 ],\n",
              "       [-0.88878254],\n",
              "       [-0.2196837 ],\n",
              "       [-1.00808772],\n",
              "       [-0.54718272],\n",
              "       [ 1.30743852],\n",
              "       [ 2.14840545],\n",
              "       [-0.5559082 ],\n",
              "       [-0.40081718],\n",
              "       [-0.93300404],\n",
              "       [-1.09835355],\n",
              "       [-0.2006586 ],\n",
              "       [-0.72722087],\n",
              "       [-0.70624993],\n",
              "       [-0.86485367],\n",
              "       [-0.48621882],\n",
              "       [ 1.71244306],\n",
              "       [ 2.05024106],\n",
              "       [ 0.11148552],\n",
              "       [-0.4276223 ],\n",
              "       [ 0.19511214],\n",
              "       [ 1.66506784],\n",
              "       [-0.3458994 ]])"
            ]
          },
          "metadata": {},
          "execution_count": 73
        }
      ]
    },
    {
      "cell_type": "markdown",
      "metadata": {
        "id": "qW7ELdBgP587"
      },
      "source": [
        "### **Evaluation Matrices**\n",
        "\n",
        "1. Mean Absolute Error (MAE)\n",
        "2. Mean Squared Error (MSE)\n",
        "3. R-Squared Error"
      ]
    },
    {
      "cell_type": "code",
      "metadata": {
        "id": "9_GYiC3dDjk6",
        "colab": {
          "base_uri": "https://localhost:8080/"
        },
        "outputId": "2b456b3c-ab0e-48ee-e4d8-8d0b80596756"
      },
      "source": [
        "from sklearn.metrics import mean_absolute_error\n",
        "\n",
        "# MAE\n",
        "\n",
        "mean_absolute_error(y_test, y_pred)"
      ],
      "execution_count": 74,
      "outputs": [
        {
          "output_type": "execute_result",
          "data": {
            "text/plain": [
              "0.3291476588325616"
            ]
          },
          "metadata": {},
          "execution_count": 74
        }
      ]
    },
    {
      "cell_type": "code",
      "metadata": {
        "id": "a0nKlEYcD0o8",
        "colab": {
          "base_uri": "https://localhost:8080/"
        },
        "outputId": "a0cf36e3-f886-4999-ac8b-f30e8d7624df"
      },
      "source": [
        "from sklearn.metrics import mean_squared_error\n",
        "\n",
        "mean_squared_error(y_test, y_pred)"
      ],
      "execution_count": 75,
      "outputs": [
        {
          "output_type": "execute_result",
          "data": {
            "text/plain": [
              "0.22440240237700151"
            ]
          },
          "metadata": {},
          "execution_count": 75
        }
      ]
    },
    {
      "cell_type": "code",
      "metadata": {
        "id": "_F1VoKk_D4ji",
        "colab": {
          "base_uri": "https://localhost:8080/"
        },
        "outputId": "983a4437-6f98-4c12-db39-45456353a105"
      },
      "source": [
        "from sklearn.metrics import r2_score\n",
        "\n",
        "r2_score(y_test, y_pred)"
      ],
      "execution_count": 76,
      "outputs": [
        {
          "output_type": "execute_result",
          "data": {
            "text/plain": [
              "0.7978274606303823"
            ]
          },
          "metadata": {},
          "execution_count": 76
        }
      ]
    },
    {
      "cell_type": "code",
      "source": [
        "mean_absolute_error(y_test, y_pred)"
      ],
      "metadata": {
        "colab": {
          "base_uri": "https://localhost:8080/"
        },
        "id": "YMTWS1D7ober",
        "outputId": "05e9c2c5-5b92-4ef8-86f9-5d3b998ab478"
      },
      "execution_count": 77,
      "outputs": [
        {
          "output_type": "execute_result",
          "data": {
            "text/plain": [
              "0.3291476588325616"
            ]
          },
          "metadata": {},
          "execution_count": 77
        }
      ]
    },
    {
      "cell_type": "code",
      "source": [
        "mean_squared_error(y_test, y_pred)"
      ],
      "metadata": {
        "colab": {
          "base_uri": "https://localhost:8080/"
        },
        "id": "y0NMmuRAocb3",
        "outputId": "7aefcef1-2862-449d-a231-dfb6d7b4c641"
      },
      "execution_count": 78,
      "outputs": [
        {
          "output_type": "execute_result",
          "data": {
            "text/plain": [
              "0.22440240237700151"
            ]
          },
          "metadata": {},
          "execution_count": 78
        }
      ]
    },
    {
      "cell_type": "markdown",
      "metadata": {
        "id": "aT-euXfCP_wM"
      },
      "source": [
        "### **Support Vector Regression**"
      ]
    },
    {
      "cell_type": "code",
      "metadata": {
        "id": "q7x0ftEpEAeE",
        "colab": {
          "base_uri": "https://localhost:8080/"
        },
        "outputId": "0c0b3906-36b9-4c8d-cd31-017e45747c7c"
      },
      "source": [
        "# Fitting SVR to the dataset\n",
        "from sklearn.svm import SVR \n",
        "\n",
        "regressor = SVR(kernel = 'linear')\n",
        "regressor.fit(X_train,y_train)"
      ],
      "execution_count": 79,
      "outputs": [
        {
          "output_type": "execute_result",
          "data": {
            "text/plain": [
              "SVR(kernel='linear')"
            ]
          },
          "metadata": {},
          "execution_count": 79
        }
      ]
    },
    {
      "cell_type": "code",
      "metadata": {
        "id": "YKvPost-EKR4"
      },
      "source": [
        "y_pred = regressor.predict(X_test)"
      ],
      "execution_count": 80,
      "outputs": []
    },
    {
      "cell_type": "code",
      "metadata": {
        "colab": {
          "base_uri": "https://localhost:8080/"
        },
        "id": "UzPE3R3j_k8C",
        "outputId": "01be6e82-3e2b-40b3-bc32-22b8949176d8"
      },
      "source": [
        "regressor.score(X_train,y_train)"
      ],
      "execution_count": 81,
      "outputs": [
        {
          "output_type": "execute_result",
          "data": {
            "text/plain": [
              "0.6785757829098201"
            ]
          },
          "metadata": {},
          "execution_count": 81
        }
      ]
    },
    {
      "cell_type": "code",
      "metadata": {
        "id": "Rl43Z1NbENhA",
        "colab": {
          "base_uri": "https://localhost:8080/"
        },
        "outputId": "aadb3f0c-9712-4776-ad54-789e39d82b45"
      },
      "source": [
        "r2_score(y_test, y_pred)"
      ],
      "execution_count": 82,
      "outputs": [
        {
          "output_type": "execute_result",
          "data": {
            "text/plain": [
              "0.7660151179057306"
            ]
          },
          "metadata": {},
          "execution_count": 82
        }
      ]
    },
    {
      "cell_type": "code",
      "metadata": {
        "id": "8_sNBgG9EziD",
        "colab": {
          "base_uri": "https://localhost:8080/"
        },
        "outputId": "4017f7a3-9396-47ca-a19a-309e98205c95"
      },
      "source": [
        "mean_absolute_error(y_test, y_pred)"
      ],
      "execution_count": 83,
      "outputs": [
        {
          "output_type": "execute_result",
          "data": {
            "text/plain": [
              "0.2654285114234701"
            ]
          },
          "metadata": {},
          "execution_count": 83
        }
      ]
    },
    {
      "cell_type": "code",
      "metadata": {
        "id": "okY-WZLjE0mc",
        "colab": {
          "base_uri": "https://localhost:8080/"
        },
        "outputId": "2852541a-7ba0-4d9a-b8f0-b77b257a5b05"
      },
      "source": [
        "mean_squared_error(y_test, y_pred)"
      ],
      "execution_count": 84,
      "outputs": [
        {
          "output_type": "execute_result",
          "data": {
            "text/plain": [
              "0.25971266832563783"
            ]
          },
          "metadata": {},
          "execution_count": 84
        }
      ]
    },
    {
      "cell_type": "markdown",
      "metadata": {
        "id": "M2_uHrnlQFXT"
      },
      "source": [
        "### **Decision Tree Regression**"
      ]
    },
    {
      "cell_type": "code",
      "metadata": {
        "id": "D5weq4mgEYAN",
        "colab": {
          "base_uri": "https://localhost:8080/"
        },
        "outputId": "bf220c64-e648-43c9-cb1b-523d9a15a01d"
      },
      "source": [
        "from sklearn.tree import DecisionTreeRegressor\n",
        "\n",
        "\n",
        "regressor = DecisionTreeRegressor(random_state = 0)\n",
        "regressor.fit(X_train,y_train) \n"
      ],
      "execution_count": 85,
      "outputs": [
        {
          "output_type": "execute_result",
          "data": {
            "text/plain": [
              "DecisionTreeRegressor(random_state=0)"
            ]
          },
          "metadata": {},
          "execution_count": 85
        }
      ]
    },
    {
      "cell_type": "code",
      "metadata": {
        "id": "pKyItVaREbHH",
        "colab": {
          "base_uri": "https://localhost:8080/"
        },
        "outputId": "f31863db-b5ca-49ec-8886-555f77497e5b"
      },
      "source": [
        "y_pred = regressor.predict(X_test)\n",
        "r2_score(y_test, y_pred)"
      ],
      "execution_count": 86,
      "outputs": [
        {
          "output_type": "execute_result",
          "data": {
            "text/plain": [
              "0.7328218425585529"
            ]
          },
          "metadata": {},
          "execution_count": 86
        }
      ]
    },
    {
      "cell_type": "code",
      "metadata": {
        "colab": {
          "base_uri": "https://localhost:8080/"
        },
        "id": "cbgZy7I7_o0y",
        "outputId": "b7c81cd5-08e5-4d9a-cc31-fad13783e21e"
      },
      "source": [
        "regressor.score(X_train,y_train)"
      ],
      "execution_count": 87,
      "outputs": [
        {
          "output_type": "execute_result",
          "data": {
            "text/plain": [
              "0.9982932582589356"
            ]
          },
          "metadata": {},
          "execution_count": 87
        }
      ]
    },
    {
      "cell_type": "code",
      "source": [
        "mean_absolute_error(y_test, y_pred)"
      ],
      "metadata": {
        "colab": {
          "base_uri": "https://localhost:8080/"
        },
        "id": "NCguLd9FSDNj",
        "outputId": "f8b28aaf-cc24-4130-dd29-baaec83e2558"
      },
      "execution_count": 88,
      "outputs": [
        {
          "output_type": "execute_result",
          "data": {
            "text/plain": [
              "0.2471217344359763"
            ]
          },
          "metadata": {},
          "execution_count": 88
        }
      ]
    },
    {
      "cell_type": "code",
      "source": [
        "mean_squared_error(y_test, y_pred)"
      ],
      "metadata": {
        "colab": {
          "base_uri": "https://localhost:8080/"
        },
        "id": "1CVQffGdSETn",
        "outputId": "bf933907-7af8-4b48-a16c-f3480e59d636"
      },
      "execution_count": 89,
      "outputs": [
        {
          "output_type": "execute_result",
          "data": {
            "text/plain": [
              "0.29655570721654356"
            ]
          },
          "metadata": {},
          "execution_count": 89
        }
      ]
    },
    {
      "cell_type": "markdown",
      "metadata": {
        "id": "GRJCSf2cQKgd"
      },
      "source": [
        "### **Random Forest Regression**"
      ]
    },
    {
      "cell_type": "code",
      "metadata": {
        "id": "Q3u2iWjyEhq0",
        "colab": {
          "base_uri": "https://localhost:8080/"
        },
        "outputId": "ce5e474d-442c-4dab-c9c4-d8fab270ff01"
      },
      "source": [
        "# Fitting the Random Forest Regression with the dataset\n",
        "from sklearn.ensemble import RandomForestRegressor\n",
        "\n",
        "regressor = RandomForestRegressor(n_estimators = 10,random_state = 0) # n estiamator is the number of decision trees\n",
        "regressor.fit(X_train,y_train) "
      ],
      "execution_count": 90,
      "outputs": [
        {
          "output_type": "execute_result",
          "data": {
            "text/plain": [
              "RandomForestRegressor(n_estimators=10, random_state=0)"
            ]
          },
          "metadata": {},
          "execution_count": 90
        }
      ]
    },
    {
      "cell_type": "code",
      "metadata": {
        "id": "f019ksPCEpKm",
        "colab": {
          "base_uri": "https://localhost:8080/"
        },
        "outputId": "83f95092-3174-49d8-f35b-5b49445367b5"
      },
      "source": [
        "y_pred = regressor.predict(X_test)\n",
        "r2_score(y_test, y_pred)"
      ],
      "execution_count": 91,
      "outputs": [
        {
          "output_type": "execute_result",
          "data": {
            "text/plain": [
              "0.8599430915361103"
            ]
          },
          "metadata": {},
          "execution_count": 91
        }
      ]
    },
    {
      "cell_type": "code",
      "metadata": {
        "colab": {
          "base_uri": "https://localhost:8080/"
        },
        "id": "8Hv7VGet_qi4",
        "outputId": "a0e197c9-74b8-42b2-f75e-dae55c6fb1df"
      },
      "source": [
        "regressor.score(X_train,y_train)"
      ],
      "execution_count": 92,
      "outputs": [
        {
          "output_type": "execute_result",
          "data": {
            "text/plain": [
              "0.9650281786414272"
            ]
          },
          "metadata": {},
          "execution_count": 92
        }
      ]
    },
    {
      "cell_type": "code",
      "metadata": {
        "id": "jC2-m2aME2Ms",
        "colab": {
          "base_uri": "https://localhost:8080/"
        },
        "outputId": "859a0f9d-38b2-490f-d23a-2c7349570aff"
      },
      "source": [
        "mean_absolute_error(y_test, y_pred)"
      ],
      "execution_count": 93,
      "outputs": [
        {
          "output_type": "execute_result",
          "data": {
            "text/plain": [
              "0.2313787994014181"
            ]
          },
          "metadata": {},
          "execution_count": 93
        }
      ]
    },
    {
      "cell_type": "code",
      "metadata": {
        "id": "BMxJkPK6E3P5",
        "colab": {
          "base_uri": "https://localhost:8080/"
        },
        "outputId": "a95b8219-cef9-432a-f9c6-6fcfa298e37a"
      },
      "source": [
        "mean_squared_error(y_test, y_pred)"
      ],
      "execution_count": 94,
      "outputs": [
        {
          "output_type": "execute_result",
          "data": {
            "text/plain": [
              "0.15545685297711503"
            ]
          },
          "metadata": {},
          "execution_count": 94
        }
      ]
    },
    {
      "cell_type": "markdown",
      "source": [
        "## Result Analysis\n",
        "\n",
        "In this project, different regressor algorithms were used to train the dataset and evaluation matrices were used to evaluate them. The comparison between these algorithms on the basis of evaluation matrices are given below:\n",
        "\n",
        "### Linear Regression\n",
        "1. Mean Absolute Error  - 0.3291 \n",
        "2. Mean Squared Error   - 0.2244\n",
        "3. R-Squared Error      - 0.7978\n",
        "4. Regression Score     - 0.7361\n",
        "\n",
        "### Support Vector Regression\n",
        "1. Mean Absolute Error  - 0.2654 \n",
        "2. Mean Squared Error   - 0.2597\n",
        "3. R-Squared Error      - 0.7660\n",
        "4. Regression Score     - 0.6785\n",
        "\n",
        "### Decision Tree Regression\n",
        "1. Mean Absolute Error  - 0.2471 \n",
        "2. Mean Squared Error   - 0.2965\n",
        "3. R-Squared Error      - 0.7328\n",
        "4. Regression Score     - 0.9982\n",
        "\n",
        "### Random Forest Regression\n",
        "1. Mean Absolute Error  - 0.2313 \n",
        "2. Mean Squared Error   - 0.1554\n",
        "3. R-Squared Error      - 0.8599\n",
        "4. Regression Score     - 0.9650"
      ],
      "metadata": {
        "id": "6T9iN-26ojfA"
      }
    },
    {
      "cell_type": "markdown",
      "source": [
        "## Discussion\n",
        "In this experiment, Regression is done on **\"Medical Cost Personal Dataset\"** using four different Regressor algorithms, those are **Linear Regression, Support Vector Regression, Decision Tree Regression and Rando Forest Regression.**\n",
        "First of all the libraries were imported and then dataset was retrived from storage and some preprocessing was done like **Encoding, Taking care of missing data and Feature Scaling.** \n",
        "The **charges** column of dataset was taken as the target dataset and **age, bmi, children, smoker** columns were taken as features. Then the dataset is splitted into training and testing where training data was 80% of the dataset. \n",
        "After training the data into regressors some evaluation matrices were used to evaluate how the model worked. From Result analysis, it is seen that Random Forest Regressor has better evaluation matrices.   "
      ],
      "metadata": {
        "id": "V5ZkAqrZrTIv"
      }
    }
  ]
}